{
 "cells": [
  {
   "cell_type": "markdown",
   "id": "b2fe1944",
   "metadata": {
    "papermill": {
     "duration": 0.021527,
     "end_time": "2022-05-26T18:39:28.195980",
     "exception": false,
     "start_time": "2022-05-26T18:39:28.174453",
     "status": "completed"
    },
    "tags": []
   },
   "source": [
    "# Import Dataset"
   ]
  },
  {
   "cell_type": "code",
   "execution_count": 1,
   "id": "a2cd12e5",
   "metadata": {
    "execution": {
     "iopub.execute_input": "2022-05-26T18:39:28.239348Z",
     "iopub.status.busy": "2022-05-26T18:39:28.238648Z",
     "iopub.status.idle": "2022-05-26T18:39:28.272238Z",
     "shell.execute_reply": "2022-05-26T18:39:28.271060Z"
    },
    "papermill": {
     "duration": 0.058957,
     "end_time": "2022-05-26T18:39:28.275626",
     "exception": false,
     "start_time": "2022-05-26T18:39:28.216669",
     "status": "completed"
    },
    "tags": []
   },
   "outputs": [],
   "source": [
    "import pandas as pd\n",
    "A=pd.read_csv(\"../input/titanic/train.csv\")"
   ]
  },
  {
   "cell_type": "code",
   "execution_count": 2,
   "id": "66e402aa",
   "metadata": {
    "execution": {
     "iopub.execute_input": "2022-05-26T18:39:28.320124Z",
     "iopub.status.busy": "2022-05-26T18:39:28.319611Z",
     "iopub.status.idle": "2022-05-26T18:39:28.336431Z",
     "shell.execute_reply": "2022-05-26T18:39:28.335546Z"
    },
    "papermill": {
     "duration": 0.04094,
     "end_time": "2022-05-26T18:39:28.339222",
     "exception": false,
     "start_time": "2022-05-26T18:39:28.298282",
     "status": "completed"
    },
    "tags": []
   },
   "outputs": [],
   "source": [
    "B=pd.read_csv(\"../input/titanic/test.csv\")"
   ]
  },
  {
   "cell_type": "markdown",
   "id": "5af5e39e",
   "metadata": {
    "papermill": {
     "duration": 0.020424,
     "end_time": "2022-05-26T18:39:28.380730",
     "exception": false,
     "start_time": "2022-05-26T18:39:28.360306",
     "status": "completed"
    },
    "tags": []
   },
   "source": [
    "# Read Dataset"
   ]
  },
  {
   "cell_type": "code",
   "execution_count": 3,
   "id": "b633c50c",
   "metadata": {
    "execution": {
     "iopub.execute_input": "2022-05-26T18:39:28.425083Z",
     "iopub.status.busy": "2022-05-26T18:39:28.424499Z",
     "iopub.status.idle": "2022-05-26T18:39:28.455113Z",
     "shell.execute_reply": "2022-05-26T18:39:28.453877Z"
    },
    "papermill": {
     "duration": 0.055854,
     "end_time": "2022-05-26T18:39:28.457907",
     "exception": false,
     "start_time": "2022-05-26T18:39:28.402053",
     "status": "completed"
    },
    "tags": []
   },
   "outputs": [
    {
     "data": {
      "text/html": [
       "<div>\n",
       "<style scoped>\n",
       "    .dataframe tbody tr th:only-of-type {\n",
       "        vertical-align: middle;\n",
       "    }\n",
       "\n",
       "    .dataframe tbody tr th {\n",
       "        vertical-align: top;\n",
       "    }\n",
       "\n",
       "    .dataframe thead th {\n",
       "        text-align: right;\n",
       "    }\n",
       "</style>\n",
       "<table border=\"1\" class=\"dataframe\">\n",
       "  <thead>\n",
       "    <tr style=\"text-align: right;\">\n",
       "      <th></th>\n",
       "      <th>PassengerId</th>\n",
       "      <th>Survived</th>\n",
       "      <th>Pclass</th>\n",
       "      <th>Name</th>\n",
       "      <th>Sex</th>\n",
       "      <th>Age</th>\n",
       "      <th>SibSp</th>\n",
       "      <th>Parch</th>\n",
       "      <th>Ticket</th>\n",
       "      <th>Fare</th>\n",
       "      <th>Cabin</th>\n",
       "      <th>Embarked</th>\n",
       "    </tr>\n",
       "  </thead>\n",
       "  <tbody>\n",
       "    <tr>\n",
       "      <th>0</th>\n",
       "      <td>1</td>\n",
       "      <td>0</td>\n",
       "      <td>3</td>\n",
       "      <td>Braund, Mr. Owen Harris</td>\n",
       "      <td>male</td>\n",
       "      <td>22.0</td>\n",
       "      <td>1</td>\n",
       "      <td>0</td>\n",
       "      <td>A/5 21171</td>\n",
       "      <td>7.2500</td>\n",
       "      <td>NaN</td>\n",
       "      <td>S</td>\n",
       "    </tr>\n",
       "    <tr>\n",
       "      <th>1</th>\n",
       "      <td>2</td>\n",
       "      <td>1</td>\n",
       "      <td>1</td>\n",
       "      <td>Cumings, Mrs. John Bradley (Florence Briggs Th...</td>\n",
       "      <td>female</td>\n",
       "      <td>38.0</td>\n",
       "      <td>1</td>\n",
       "      <td>0</td>\n",
       "      <td>PC 17599</td>\n",
       "      <td>71.2833</td>\n",
       "      <td>C85</td>\n",
       "      <td>C</td>\n",
       "    </tr>\n",
       "    <tr>\n",
       "      <th>2</th>\n",
       "      <td>3</td>\n",
       "      <td>1</td>\n",
       "      <td>3</td>\n",
       "      <td>Heikkinen, Miss. Laina</td>\n",
       "      <td>female</td>\n",
       "      <td>26.0</td>\n",
       "      <td>0</td>\n",
       "      <td>0</td>\n",
       "      <td>STON/O2. 3101282</td>\n",
       "      <td>7.9250</td>\n",
       "      <td>NaN</td>\n",
       "      <td>S</td>\n",
       "    </tr>\n",
       "    <tr>\n",
       "      <th>3</th>\n",
       "      <td>4</td>\n",
       "      <td>1</td>\n",
       "      <td>1</td>\n",
       "      <td>Futrelle, Mrs. Jacques Heath (Lily May Peel)</td>\n",
       "      <td>female</td>\n",
       "      <td>35.0</td>\n",
       "      <td>1</td>\n",
       "      <td>0</td>\n",
       "      <td>113803</td>\n",
       "      <td>53.1000</td>\n",
       "      <td>C123</td>\n",
       "      <td>S</td>\n",
       "    </tr>\n",
       "    <tr>\n",
       "      <th>4</th>\n",
       "      <td>5</td>\n",
       "      <td>0</td>\n",
       "      <td>3</td>\n",
       "      <td>Allen, Mr. William Henry</td>\n",
       "      <td>male</td>\n",
       "      <td>35.0</td>\n",
       "      <td>0</td>\n",
       "      <td>0</td>\n",
       "      <td>373450</td>\n",
       "      <td>8.0500</td>\n",
       "      <td>NaN</td>\n",
       "      <td>S</td>\n",
       "    </tr>\n",
       "  </tbody>\n",
       "</table>\n",
       "</div>"
      ],
      "text/plain": [
       "   PassengerId  Survived  Pclass  \\\n",
       "0            1         0       3   \n",
       "1            2         1       1   \n",
       "2            3         1       3   \n",
       "3            4         1       1   \n",
       "4            5         0       3   \n",
       "\n",
       "                                                Name     Sex   Age  SibSp  \\\n",
       "0                            Braund, Mr. Owen Harris    male  22.0      1   \n",
       "1  Cumings, Mrs. John Bradley (Florence Briggs Th...  female  38.0      1   \n",
       "2                             Heikkinen, Miss. Laina  female  26.0      0   \n",
       "3       Futrelle, Mrs. Jacques Heath (Lily May Peel)  female  35.0      1   \n",
       "4                           Allen, Mr. William Henry    male  35.0      0   \n",
       "\n",
       "   Parch            Ticket     Fare Cabin Embarked  \n",
       "0      0         A/5 21171   7.2500   NaN        S  \n",
       "1      0          PC 17599  71.2833   C85        C  \n",
       "2      0  STON/O2. 3101282   7.9250   NaN        S  \n",
       "3      0            113803  53.1000  C123        S  \n",
       "4      0            373450   8.0500   NaN        S  "
      ]
     },
     "execution_count": 3,
     "metadata": {},
     "output_type": "execute_result"
    }
   ],
   "source": [
    "A.head()"
   ]
  },
  {
   "cell_type": "code",
   "execution_count": 4,
   "id": "6ca69d75",
   "metadata": {
    "execution": {
     "iopub.execute_input": "2022-05-26T18:39:28.502398Z",
     "iopub.status.busy": "2022-05-26T18:39:28.501873Z",
     "iopub.status.idle": "2022-05-26T18:39:28.520610Z",
     "shell.execute_reply": "2022-05-26T18:39:28.519782Z"
    },
    "papermill": {
     "duration": 0.044575,
     "end_time": "2022-05-26T18:39:28.523030",
     "exception": false,
     "start_time": "2022-05-26T18:39:28.478455",
     "status": "completed"
    },
    "tags": []
   },
   "outputs": [
    {
     "data": {
      "text/html": [
       "<div>\n",
       "<style scoped>\n",
       "    .dataframe tbody tr th:only-of-type {\n",
       "        vertical-align: middle;\n",
       "    }\n",
       "\n",
       "    .dataframe tbody tr th {\n",
       "        vertical-align: top;\n",
       "    }\n",
       "\n",
       "    .dataframe thead th {\n",
       "        text-align: right;\n",
       "    }\n",
       "</style>\n",
       "<table border=\"1\" class=\"dataframe\">\n",
       "  <thead>\n",
       "    <tr style=\"text-align: right;\">\n",
       "      <th></th>\n",
       "      <th>PassengerId</th>\n",
       "      <th>Survived</th>\n",
       "      <th>Pclass</th>\n",
       "      <th>Name</th>\n",
       "      <th>Sex</th>\n",
       "      <th>Age</th>\n",
       "      <th>SibSp</th>\n",
       "      <th>Parch</th>\n",
       "      <th>Ticket</th>\n",
       "      <th>Fare</th>\n",
       "      <th>Cabin</th>\n",
       "      <th>Embarked</th>\n",
       "    </tr>\n",
       "  </thead>\n",
       "  <tbody>\n",
       "    <tr>\n",
       "      <th>886</th>\n",
       "      <td>887</td>\n",
       "      <td>0</td>\n",
       "      <td>2</td>\n",
       "      <td>Montvila, Rev. Juozas</td>\n",
       "      <td>male</td>\n",
       "      <td>27.0</td>\n",
       "      <td>0</td>\n",
       "      <td>0</td>\n",
       "      <td>211536</td>\n",
       "      <td>13.00</td>\n",
       "      <td>NaN</td>\n",
       "      <td>S</td>\n",
       "    </tr>\n",
       "    <tr>\n",
       "      <th>887</th>\n",
       "      <td>888</td>\n",
       "      <td>1</td>\n",
       "      <td>1</td>\n",
       "      <td>Graham, Miss. Margaret Edith</td>\n",
       "      <td>female</td>\n",
       "      <td>19.0</td>\n",
       "      <td>0</td>\n",
       "      <td>0</td>\n",
       "      <td>112053</td>\n",
       "      <td>30.00</td>\n",
       "      <td>B42</td>\n",
       "      <td>S</td>\n",
       "    </tr>\n",
       "    <tr>\n",
       "      <th>888</th>\n",
       "      <td>889</td>\n",
       "      <td>0</td>\n",
       "      <td>3</td>\n",
       "      <td>Johnston, Miss. Catherine Helen \"Carrie\"</td>\n",
       "      <td>female</td>\n",
       "      <td>NaN</td>\n",
       "      <td>1</td>\n",
       "      <td>2</td>\n",
       "      <td>W./C. 6607</td>\n",
       "      <td>23.45</td>\n",
       "      <td>NaN</td>\n",
       "      <td>S</td>\n",
       "    </tr>\n",
       "    <tr>\n",
       "      <th>889</th>\n",
       "      <td>890</td>\n",
       "      <td>1</td>\n",
       "      <td>1</td>\n",
       "      <td>Behr, Mr. Karl Howell</td>\n",
       "      <td>male</td>\n",
       "      <td>26.0</td>\n",
       "      <td>0</td>\n",
       "      <td>0</td>\n",
       "      <td>111369</td>\n",
       "      <td>30.00</td>\n",
       "      <td>C148</td>\n",
       "      <td>C</td>\n",
       "    </tr>\n",
       "    <tr>\n",
       "      <th>890</th>\n",
       "      <td>891</td>\n",
       "      <td>0</td>\n",
       "      <td>3</td>\n",
       "      <td>Dooley, Mr. Patrick</td>\n",
       "      <td>male</td>\n",
       "      <td>32.0</td>\n",
       "      <td>0</td>\n",
       "      <td>0</td>\n",
       "      <td>370376</td>\n",
       "      <td>7.75</td>\n",
       "      <td>NaN</td>\n",
       "      <td>Q</td>\n",
       "    </tr>\n",
       "  </tbody>\n",
       "</table>\n",
       "</div>"
      ],
      "text/plain": [
       "     PassengerId  Survived  Pclass                                      Name  \\\n",
       "886          887         0       2                     Montvila, Rev. Juozas   \n",
       "887          888         1       1              Graham, Miss. Margaret Edith   \n",
       "888          889         0       3  Johnston, Miss. Catherine Helen \"Carrie\"   \n",
       "889          890         1       1                     Behr, Mr. Karl Howell   \n",
       "890          891         0       3                       Dooley, Mr. Patrick   \n",
       "\n",
       "        Sex   Age  SibSp  Parch      Ticket   Fare Cabin Embarked  \n",
       "886    male  27.0      0      0      211536  13.00   NaN        S  \n",
       "887  female  19.0      0      0      112053  30.00   B42        S  \n",
       "888  female   NaN      1      2  W./C. 6607  23.45   NaN        S  \n",
       "889    male  26.0      0      0      111369  30.00  C148        C  \n",
       "890    male  32.0      0      0      370376   7.75   NaN        Q  "
      ]
     },
     "execution_count": 4,
     "metadata": {},
     "output_type": "execute_result"
    }
   ],
   "source": [
    "A.tail()"
   ]
  },
  {
   "cell_type": "code",
   "execution_count": 5,
   "id": "90c54a86",
   "metadata": {
    "execution": {
     "iopub.execute_input": "2022-05-26T18:39:28.567930Z",
     "iopub.status.busy": "2022-05-26T18:39:28.567208Z",
     "iopub.status.idle": "2022-05-26T18:39:28.584554Z",
     "shell.execute_reply": "2022-05-26T18:39:28.582883Z"
    },
    "papermill": {
     "duration": 0.042829,
     "end_time": "2022-05-26T18:39:28.587197",
     "exception": false,
     "start_time": "2022-05-26T18:39:28.544368",
     "status": "completed"
    },
    "tags": []
   },
   "outputs": [
    {
     "data": {
      "text/html": [
       "<div>\n",
       "<style scoped>\n",
       "    .dataframe tbody tr th:only-of-type {\n",
       "        vertical-align: middle;\n",
       "    }\n",
       "\n",
       "    .dataframe tbody tr th {\n",
       "        vertical-align: top;\n",
       "    }\n",
       "\n",
       "    .dataframe thead th {\n",
       "        text-align: right;\n",
       "    }\n",
       "</style>\n",
       "<table border=\"1\" class=\"dataframe\">\n",
       "  <thead>\n",
       "    <tr style=\"text-align: right;\">\n",
       "      <th></th>\n",
       "      <th>PassengerId</th>\n",
       "      <th>Pclass</th>\n",
       "      <th>Name</th>\n",
       "      <th>Sex</th>\n",
       "      <th>Age</th>\n",
       "      <th>SibSp</th>\n",
       "      <th>Parch</th>\n",
       "      <th>Ticket</th>\n",
       "      <th>Fare</th>\n",
       "      <th>Cabin</th>\n",
       "      <th>Embarked</th>\n",
       "    </tr>\n",
       "  </thead>\n",
       "  <tbody>\n",
       "    <tr>\n",
       "      <th>0</th>\n",
       "      <td>892</td>\n",
       "      <td>3</td>\n",
       "      <td>Kelly, Mr. James</td>\n",
       "      <td>male</td>\n",
       "      <td>34.5</td>\n",
       "      <td>0</td>\n",
       "      <td>0</td>\n",
       "      <td>330911</td>\n",
       "      <td>7.8292</td>\n",
       "      <td>NaN</td>\n",
       "      <td>Q</td>\n",
       "    </tr>\n",
       "    <tr>\n",
       "      <th>1</th>\n",
       "      <td>893</td>\n",
       "      <td>3</td>\n",
       "      <td>Wilkes, Mrs. James (Ellen Needs)</td>\n",
       "      <td>female</td>\n",
       "      <td>47.0</td>\n",
       "      <td>1</td>\n",
       "      <td>0</td>\n",
       "      <td>363272</td>\n",
       "      <td>7.0000</td>\n",
       "      <td>NaN</td>\n",
       "      <td>S</td>\n",
       "    </tr>\n",
       "    <tr>\n",
       "      <th>2</th>\n",
       "      <td>894</td>\n",
       "      <td>2</td>\n",
       "      <td>Myles, Mr. Thomas Francis</td>\n",
       "      <td>male</td>\n",
       "      <td>62.0</td>\n",
       "      <td>0</td>\n",
       "      <td>0</td>\n",
       "      <td>240276</td>\n",
       "      <td>9.6875</td>\n",
       "      <td>NaN</td>\n",
       "      <td>Q</td>\n",
       "    </tr>\n",
       "    <tr>\n",
       "      <th>3</th>\n",
       "      <td>895</td>\n",
       "      <td>3</td>\n",
       "      <td>Wirz, Mr. Albert</td>\n",
       "      <td>male</td>\n",
       "      <td>27.0</td>\n",
       "      <td>0</td>\n",
       "      <td>0</td>\n",
       "      <td>315154</td>\n",
       "      <td>8.6625</td>\n",
       "      <td>NaN</td>\n",
       "      <td>S</td>\n",
       "    </tr>\n",
       "    <tr>\n",
       "      <th>4</th>\n",
       "      <td>896</td>\n",
       "      <td>3</td>\n",
       "      <td>Hirvonen, Mrs. Alexander (Helga E Lindqvist)</td>\n",
       "      <td>female</td>\n",
       "      <td>22.0</td>\n",
       "      <td>1</td>\n",
       "      <td>1</td>\n",
       "      <td>3101298</td>\n",
       "      <td>12.2875</td>\n",
       "      <td>NaN</td>\n",
       "      <td>S</td>\n",
       "    </tr>\n",
       "  </tbody>\n",
       "</table>\n",
       "</div>"
      ],
      "text/plain": [
       "   PassengerId  Pclass                                          Name     Sex  \\\n",
       "0          892       3                              Kelly, Mr. James    male   \n",
       "1          893       3              Wilkes, Mrs. James (Ellen Needs)  female   \n",
       "2          894       2                     Myles, Mr. Thomas Francis    male   \n",
       "3          895       3                              Wirz, Mr. Albert    male   \n",
       "4          896       3  Hirvonen, Mrs. Alexander (Helga E Lindqvist)  female   \n",
       "\n",
       "    Age  SibSp  Parch   Ticket     Fare Cabin Embarked  \n",
       "0  34.5      0      0   330911   7.8292   NaN        Q  \n",
       "1  47.0      1      0   363272   7.0000   NaN        S  \n",
       "2  62.0      0      0   240276   9.6875   NaN        Q  \n",
       "3  27.0      0      0   315154   8.6625   NaN        S  \n",
       "4  22.0      1      1  3101298  12.2875   NaN        S  "
      ]
     },
     "execution_count": 5,
     "metadata": {},
     "output_type": "execute_result"
    }
   ],
   "source": [
    "B.head()"
   ]
  },
  {
   "cell_type": "code",
   "execution_count": 6,
   "id": "ee30ed66",
   "metadata": {
    "execution": {
     "iopub.execute_input": "2022-05-26T18:39:28.633630Z",
     "iopub.status.busy": "2022-05-26T18:39:28.632908Z",
     "iopub.status.idle": "2022-05-26T18:39:28.650142Z",
     "shell.execute_reply": "2022-05-26T18:39:28.649280Z"
    },
    "papermill": {
     "duration": 0.043015,
     "end_time": "2022-05-26T18:39:28.652331",
     "exception": false,
     "start_time": "2022-05-26T18:39:28.609316",
     "status": "completed"
    },
    "tags": []
   },
   "outputs": [
    {
     "data": {
      "text/html": [
       "<div>\n",
       "<style scoped>\n",
       "    .dataframe tbody tr th:only-of-type {\n",
       "        vertical-align: middle;\n",
       "    }\n",
       "\n",
       "    .dataframe tbody tr th {\n",
       "        vertical-align: top;\n",
       "    }\n",
       "\n",
       "    .dataframe thead th {\n",
       "        text-align: right;\n",
       "    }\n",
       "</style>\n",
       "<table border=\"1\" class=\"dataframe\">\n",
       "  <thead>\n",
       "    <tr style=\"text-align: right;\">\n",
       "      <th></th>\n",
       "      <th>PassengerId</th>\n",
       "      <th>Pclass</th>\n",
       "      <th>Name</th>\n",
       "      <th>Sex</th>\n",
       "      <th>Age</th>\n",
       "      <th>SibSp</th>\n",
       "      <th>Parch</th>\n",
       "      <th>Ticket</th>\n",
       "      <th>Fare</th>\n",
       "      <th>Cabin</th>\n",
       "      <th>Embarked</th>\n",
       "    </tr>\n",
       "  </thead>\n",
       "  <tbody>\n",
       "    <tr>\n",
       "      <th>413</th>\n",
       "      <td>1305</td>\n",
       "      <td>3</td>\n",
       "      <td>Spector, Mr. Woolf</td>\n",
       "      <td>male</td>\n",
       "      <td>NaN</td>\n",
       "      <td>0</td>\n",
       "      <td>0</td>\n",
       "      <td>A.5. 3236</td>\n",
       "      <td>8.0500</td>\n",
       "      <td>NaN</td>\n",
       "      <td>S</td>\n",
       "    </tr>\n",
       "    <tr>\n",
       "      <th>414</th>\n",
       "      <td>1306</td>\n",
       "      <td>1</td>\n",
       "      <td>Oliva y Ocana, Dona. Fermina</td>\n",
       "      <td>female</td>\n",
       "      <td>39.0</td>\n",
       "      <td>0</td>\n",
       "      <td>0</td>\n",
       "      <td>PC 17758</td>\n",
       "      <td>108.9000</td>\n",
       "      <td>C105</td>\n",
       "      <td>C</td>\n",
       "    </tr>\n",
       "    <tr>\n",
       "      <th>415</th>\n",
       "      <td>1307</td>\n",
       "      <td>3</td>\n",
       "      <td>Saether, Mr. Simon Sivertsen</td>\n",
       "      <td>male</td>\n",
       "      <td>38.5</td>\n",
       "      <td>0</td>\n",
       "      <td>0</td>\n",
       "      <td>SOTON/O.Q. 3101262</td>\n",
       "      <td>7.2500</td>\n",
       "      <td>NaN</td>\n",
       "      <td>S</td>\n",
       "    </tr>\n",
       "    <tr>\n",
       "      <th>416</th>\n",
       "      <td>1308</td>\n",
       "      <td>3</td>\n",
       "      <td>Ware, Mr. Frederick</td>\n",
       "      <td>male</td>\n",
       "      <td>NaN</td>\n",
       "      <td>0</td>\n",
       "      <td>0</td>\n",
       "      <td>359309</td>\n",
       "      <td>8.0500</td>\n",
       "      <td>NaN</td>\n",
       "      <td>S</td>\n",
       "    </tr>\n",
       "    <tr>\n",
       "      <th>417</th>\n",
       "      <td>1309</td>\n",
       "      <td>3</td>\n",
       "      <td>Peter, Master. Michael J</td>\n",
       "      <td>male</td>\n",
       "      <td>NaN</td>\n",
       "      <td>1</td>\n",
       "      <td>1</td>\n",
       "      <td>2668</td>\n",
       "      <td>22.3583</td>\n",
       "      <td>NaN</td>\n",
       "      <td>C</td>\n",
       "    </tr>\n",
       "  </tbody>\n",
       "</table>\n",
       "</div>"
      ],
      "text/plain": [
       "     PassengerId  Pclass                          Name     Sex   Age  SibSp  \\\n",
       "413         1305       3            Spector, Mr. Woolf    male   NaN      0   \n",
       "414         1306       1  Oliva y Ocana, Dona. Fermina  female  39.0      0   \n",
       "415         1307       3  Saether, Mr. Simon Sivertsen    male  38.5      0   \n",
       "416         1308       3           Ware, Mr. Frederick    male   NaN      0   \n",
       "417         1309       3      Peter, Master. Michael J    male   NaN      1   \n",
       "\n",
       "     Parch              Ticket      Fare Cabin Embarked  \n",
       "413      0           A.5. 3236    8.0500   NaN        S  \n",
       "414      0            PC 17758  108.9000  C105        C  \n",
       "415      0  SOTON/O.Q. 3101262    7.2500   NaN        S  \n",
       "416      0              359309    8.0500   NaN        S  \n",
       "417      1                2668   22.3583   NaN        C  "
      ]
     },
     "execution_count": 6,
     "metadata": {},
     "output_type": "execute_result"
    }
   ],
   "source": [
    "B.tail()"
   ]
  },
  {
   "cell_type": "code",
   "execution_count": 7,
   "id": "f6fb3498",
   "metadata": {
    "execution": {
     "iopub.execute_input": "2022-05-26T18:39:28.696741Z",
     "iopub.status.busy": "2022-05-26T18:39:28.696045Z",
     "iopub.status.idle": "2022-05-26T18:39:28.702288Z",
     "shell.execute_reply": "2022-05-26T18:39:28.701062Z"
    },
    "papermill": {
     "duration": 0.03145,
     "end_time": "2022-05-26T18:39:28.704501",
     "exception": false,
     "start_time": "2022-05-26T18:39:28.673051",
     "status": "completed"
    },
    "tags": []
   },
   "outputs": [
    {
     "data": {
      "text/plain": [
       "(891, 12)"
      ]
     },
     "execution_count": 7,
     "metadata": {},
     "output_type": "execute_result"
    }
   ],
   "source": [
    "A.shape"
   ]
  },
  {
   "cell_type": "code",
   "execution_count": 8,
   "id": "0191f7e6",
   "metadata": {
    "execution": {
     "iopub.execute_input": "2022-05-26T18:39:28.749753Z",
     "iopub.status.busy": "2022-05-26T18:39:28.748921Z",
     "iopub.status.idle": "2022-05-26T18:39:28.755223Z",
     "shell.execute_reply": "2022-05-26T18:39:28.754122Z"
    },
    "papermill": {
     "duration": 0.0315,
     "end_time": "2022-05-26T18:39:28.757552",
     "exception": false,
     "start_time": "2022-05-26T18:39:28.726052",
     "status": "completed"
    },
    "tags": []
   },
   "outputs": [
    {
     "data": {
      "text/plain": [
       "(418, 11)"
      ]
     },
     "execution_count": 8,
     "metadata": {},
     "output_type": "execute_result"
    }
   ],
   "source": [
    "B.shape"
   ]
  },
  {
   "cell_type": "code",
   "execution_count": 9,
   "id": "5dd6444a",
   "metadata": {
    "execution": {
     "iopub.execute_input": "2022-05-26T18:39:28.803649Z",
     "iopub.status.busy": "2022-05-26T18:39:28.803150Z",
     "iopub.status.idle": "2022-05-26T18:39:28.835372Z",
     "shell.execute_reply": "2022-05-26T18:39:28.834319Z"
    },
    "papermill": {
     "duration": 0.059838,
     "end_time": "2022-05-26T18:39:28.838486",
     "exception": false,
     "start_time": "2022-05-26T18:39:28.778648",
     "status": "completed"
    },
    "tags": []
   },
   "outputs": [
    {
     "name": "stdout",
     "output_type": "stream",
     "text": [
      "<class 'pandas.core.frame.DataFrame'>\n",
      "RangeIndex: 891 entries, 0 to 890\n",
      "Data columns (total 12 columns):\n",
      " #   Column       Non-Null Count  Dtype  \n",
      "---  ------       --------------  -----  \n",
      " 0   PassengerId  891 non-null    int64  \n",
      " 1   Survived     891 non-null    int64  \n",
      " 2   Pclass       891 non-null    int64  \n",
      " 3   Name         891 non-null    object \n",
      " 4   Sex          891 non-null    object \n",
      " 5   Age          714 non-null    float64\n",
      " 6   SibSp        891 non-null    int64  \n",
      " 7   Parch        891 non-null    int64  \n",
      " 8   Ticket       891 non-null    object \n",
      " 9   Fare         891 non-null    float64\n",
      " 10  Cabin        204 non-null    object \n",
      " 11  Embarked     889 non-null    object \n",
      "dtypes: float64(2), int64(5), object(5)\n",
      "memory usage: 83.7+ KB\n"
     ]
    }
   ],
   "source": [
    "A.info()"
   ]
  },
  {
   "cell_type": "code",
   "execution_count": 10,
   "id": "c7ac8c66",
   "metadata": {
    "execution": {
     "iopub.execute_input": "2022-05-26T18:39:28.884705Z",
     "iopub.status.busy": "2022-05-26T18:39:28.883986Z",
     "iopub.status.idle": "2022-05-26T18:39:28.898410Z",
     "shell.execute_reply": "2022-05-26T18:39:28.896984Z"
    },
    "papermill": {
     "duration": 0.040461,
     "end_time": "2022-05-26T18:39:28.900941",
     "exception": false,
     "start_time": "2022-05-26T18:39:28.860480",
     "status": "completed"
    },
    "tags": []
   },
   "outputs": [
    {
     "name": "stdout",
     "output_type": "stream",
     "text": [
      "<class 'pandas.core.frame.DataFrame'>\n",
      "RangeIndex: 418 entries, 0 to 417\n",
      "Data columns (total 11 columns):\n",
      " #   Column       Non-Null Count  Dtype  \n",
      "---  ------       --------------  -----  \n",
      " 0   PassengerId  418 non-null    int64  \n",
      " 1   Pclass       418 non-null    int64  \n",
      " 2   Name         418 non-null    object \n",
      " 3   Sex          418 non-null    object \n",
      " 4   Age          332 non-null    float64\n",
      " 5   SibSp        418 non-null    int64  \n",
      " 6   Parch        418 non-null    int64  \n",
      " 7   Ticket       418 non-null    object \n",
      " 8   Fare         417 non-null    float64\n",
      " 9   Cabin        91 non-null     object \n",
      " 10  Embarked     418 non-null    object \n",
      "dtypes: float64(2), int64(4), object(5)\n",
      "memory usage: 36.0+ KB\n"
     ]
    }
   ],
   "source": [
    "B.info()"
   ]
  },
  {
   "cell_type": "code",
   "execution_count": 11,
   "id": "e4ad3194",
   "metadata": {
    "execution": {
     "iopub.execute_input": "2022-05-26T18:39:28.946892Z",
     "iopub.status.busy": "2022-05-26T18:39:28.946124Z",
     "iopub.status.idle": "2022-05-26T18:39:28.986780Z",
     "shell.execute_reply": "2022-05-26T18:39:28.985611Z"
    },
    "papermill": {
     "duration": 0.066464,
     "end_time": "2022-05-26T18:39:28.989196",
     "exception": false,
     "start_time": "2022-05-26T18:39:28.922732",
     "status": "completed"
    },
    "tags": []
   },
   "outputs": [
    {
     "data": {
      "text/html": [
       "<div>\n",
       "<style scoped>\n",
       "    .dataframe tbody tr th:only-of-type {\n",
       "        vertical-align: middle;\n",
       "    }\n",
       "\n",
       "    .dataframe tbody tr th {\n",
       "        vertical-align: top;\n",
       "    }\n",
       "\n",
       "    .dataframe thead th {\n",
       "        text-align: right;\n",
       "    }\n",
       "</style>\n",
       "<table border=\"1\" class=\"dataframe\">\n",
       "  <thead>\n",
       "    <tr style=\"text-align: right;\">\n",
       "      <th></th>\n",
       "      <th>PassengerId</th>\n",
       "      <th>Survived</th>\n",
       "      <th>Pclass</th>\n",
       "      <th>Age</th>\n",
       "      <th>SibSp</th>\n",
       "      <th>Parch</th>\n",
       "      <th>Fare</th>\n",
       "    </tr>\n",
       "  </thead>\n",
       "  <tbody>\n",
       "    <tr>\n",
       "      <th>count</th>\n",
       "      <td>891.000000</td>\n",
       "      <td>891.000000</td>\n",
       "      <td>891.000000</td>\n",
       "      <td>714.000000</td>\n",
       "      <td>891.000000</td>\n",
       "      <td>891.000000</td>\n",
       "      <td>891.000000</td>\n",
       "    </tr>\n",
       "    <tr>\n",
       "      <th>mean</th>\n",
       "      <td>446.000000</td>\n",
       "      <td>0.383838</td>\n",
       "      <td>2.308642</td>\n",
       "      <td>29.699118</td>\n",
       "      <td>0.523008</td>\n",
       "      <td>0.381594</td>\n",
       "      <td>32.204208</td>\n",
       "    </tr>\n",
       "    <tr>\n",
       "      <th>std</th>\n",
       "      <td>257.353842</td>\n",
       "      <td>0.486592</td>\n",
       "      <td>0.836071</td>\n",
       "      <td>14.526497</td>\n",
       "      <td>1.102743</td>\n",
       "      <td>0.806057</td>\n",
       "      <td>49.693429</td>\n",
       "    </tr>\n",
       "    <tr>\n",
       "      <th>min</th>\n",
       "      <td>1.000000</td>\n",
       "      <td>0.000000</td>\n",
       "      <td>1.000000</td>\n",
       "      <td>0.420000</td>\n",
       "      <td>0.000000</td>\n",
       "      <td>0.000000</td>\n",
       "      <td>0.000000</td>\n",
       "    </tr>\n",
       "    <tr>\n",
       "      <th>25%</th>\n",
       "      <td>223.500000</td>\n",
       "      <td>0.000000</td>\n",
       "      <td>2.000000</td>\n",
       "      <td>20.125000</td>\n",
       "      <td>0.000000</td>\n",
       "      <td>0.000000</td>\n",
       "      <td>7.910400</td>\n",
       "    </tr>\n",
       "    <tr>\n",
       "      <th>50%</th>\n",
       "      <td>446.000000</td>\n",
       "      <td>0.000000</td>\n",
       "      <td>3.000000</td>\n",
       "      <td>28.000000</td>\n",
       "      <td>0.000000</td>\n",
       "      <td>0.000000</td>\n",
       "      <td>14.454200</td>\n",
       "    </tr>\n",
       "    <tr>\n",
       "      <th>75%</th>\n",
       "      <td>668.500000</td>\n",
       "      <td>1.000000</td>\n",
       "      <td>3.000000</td>\n",
       "      <td>38.000000</td>\n",
       "      <td>1.000000</td>\n",
       "      <td>0.000000</td>\n",
       "      <td>31.000000</td>\n",
       "    </tr>\n",
       "    <tr>\n",
       "      <th>max</th>\n",
       "      <td>891.000000</td>\n",
       "      <td>1.000000</td>\n",
       "      <td>3.000000</td>\n",
       "      <td>80.000000</td>\n",
       "      <td>8.000000</td>\n",
       "      <td>6.000000</td>\n",
       "      <td>512.329200</td>\n",
       "    </tr>\n",
       "  </tbody>\n",
       "</table>\n",
       "</div>"
      ],
      "text/plain": [
       "       PassengerId    Survived      Pclass         Age       SibSp  \\\n",
       "count   891.000000  891.000000  891.000000  714.000000  891.000000   \n",
       "mean    446.000000    0.383838    2.308642   29.699118    0.523008   \n",
       "std     257.353842    0.486592    0.836071   14.526497    1.102743   \n",
       "min       1.000000    0.000000    1.000000    0.420000    0.000000   \n",
       "25%     223.500000    0.000000    2.000000   20.125000    0.000000   \n",
       "50%     446.000000    0.000000    3.000000   28.000000    0.000000   \n",
       "75%     668.500000    1.000000    3.000000   38.000000    1.000000   \n",
       "max     891.000000    1.000000    3.000000   80.000000    8.000000   \n",
       "\n",
       "            Parch        Fare  \n",
       "count  891.000000  891.000000  \n",
       "mean     0.381594   32.204208  \n",
       "std      0.806057   49.693429  \n",
       "min      0.000000    0.000000  \n",
       "25%      0.000000    7.910400  \n",
       "50%      0.000000   14.454200  \n",
       "75%      0.000000   31.000000  \n",
       "max      6.000000  512.329200  "
      ]
     },
     "execution_count": 11,
     "metadata": {},
     "output_type": "execute_result"
    }
   ],
   "source": [
    "A.describe()"
   ]
  },
  {
   "cell_type": "code",
   "execution_count": 12,
   "id": "d4e9552f",
   "metadata": {
    "execution": {
     "iopub.execute_input": "2022-05-26T18:39:29.040341Z",
     "iopub.status.busy": "2022-05-26T18:39:29.039844Z",
     "iopub.status.idle": "2022-05-26T18:39:29.073978Z",
     "shell.execute_reply": "2022-05-26T18:39:29.073048Z"
    },
    "papermill": {
     "duration": 0.061838,
     "end_time": "2022-05-26T18:39:29.076578",
     "exception": false,
     "start_time": "2022-05-26T18:39:29.014740",
     "status": "completed"
    },
    "tags": []
   },
   "outputs": [
    {
     "data": {
      "text/html": [
       "<div>\n",
       "<style scoped>\n",
       "    .dataframe tbody tr th:only-of-type {\n",
       "        vertical-align: middle;\n",
       "    }\n",
       "\n",
       "    .dataframe tbody tr th {\n",
       "        vertical-align: top;\n",
       "    }\n",
       "\n",
       "    .dataframe thead th {\n",
       "        text-align: right;\n",
       "    }\n",
       "</style>\n",
       "<table border=\"1\" class=\"dataframe\">\n",
       "  <thead>\n",
       "    <tr style=\"text-align: right;\">\n",
       "      <th></th>\n",
       "      <th>PassengerId</th>\n",
       "      <th>Pclass</th>\n",
       "      <th>Age</th>\n",
       "      <th>SibSp</th>\n",
       "      <th>Parch</th>\n",
       "      <th>Fare</th>\n",
       "    </tr>\n",
       "  </thead>\n",
       "  <tbody>\n",
       "    <tr>\n",
       "      <th>count</th>\n",
       "      <td>418.000000</td>\n",
       "      <td>418.000000</td>\n",
       "      <td>332.000000</td>\n",
       "      <td>418.000000</td>\n",
       "      <td>418.000000</td>\n",
       "      <td>417.000000</td>\n",
       "    </tr>\n",
       "    <tr>\n",
       "      <th>mean</th>\n",
       "      <td>1100.500000</td>\n",
       "      <td>2.265550</td>\n",
       "      <td>30.272590</td>\n",
       "      <td>0.447368</td>\n",
       "      <td>0.392344</td>\n",
       "      <td>35.627188</td>\n",
       "    </tr>\n",
       "    <tr>\n",
       "      <th>std</th>\n",
       "      <td>120.810458</td>\n",
       "      <td>0.841838</td>\n",
       "      <td>14.181209</td>\n",
       "      <td>0.896760</td>\n",
       "      <td>0.981429</td>\n",
       "      <td>55.907576</td>\n",
       "    </tr>\n",
       "    <tr>\n",
       "      <th>min</th>\n",
       "      <td>892.000000</td>\n",
       "      <td>1.000000</td>\n",
       "      <td>0.170000</td>\n",
       "      <td>0.000000</td>\n",
       "      <td>0.000000</td>\n",
       "      <td>0.000000</td>\n",
       "    </tr>\n",
       "    <tr>\n",
       "      <th>25%</th>\n",
       "      <td>996.250000</td>\n",
       "      <td>1.000000</td>\n",
       "      <td>21.000000</td>\n",
       "      <td>0.000000</td>\n",
       "      <td>0.000000</td>\n",
       "      <td>7.895800</td>\n",
       "    </tr>\n",
       "    <tr>\n",
       "      <th>50%</th>\n",
       "      <td>1100.500000</td>\n",
       "      <td>3.000000</td>\n",
       "      <td>27.000000</td>\n",
       "      <td>0.000000</td>\n",
       "      <td>0.000000</td>\n",
       "      <td>14.454200</td>\n",
       "    </tr>\n",
       "    <tr>\n",
       "      <th>75%</th>\n",
       "      <td>1204.750000</td>\n",
       "      <td>3.000000</td>\n",
       "      <td>39.000000</td>\n",
       "      <td>1.000000</td>\n",
       "      <td>0.000000</td>\n",
       "      <td>31.500000</td>\n",
       "    </tr>\n",
       "    <tr>\n",
       "      <th>max</th>\n",
       "      <td>1309.000000</td>\n",
       "      <td>3.000000</td>\n",
       "      <td>76.000000</td>\n",
       "      <td>8.000000</td>\n",
       "      <td>9.000000</td>\n",
       "      <td>512.329200</td>\n",
       "    </tr>\n",
       "  </tbody>\n",
       "</table>\n",
       "</div>"
      ],
      "text/plain": [
       "       PassengerId      Pclass         Age       SibSp       Parch        Fare\n",
       "count   418.000000  418.000000  332.000000  418.000000  418.000000  417.000000\n",
       "mean   1100.500000    2.265550   30.272590    0.447368    0.392344   35.627188\n",
       "std     120.810458    0.841838   14.181209    0.896760    0.981429   55.907576\n",
       "min     892.000000    1.000000    0.170000    0.000000    0.000000    0.000000\n",
       "25%     996.250000    1.000000   21.000000    0.000000    0.000000    7.895800\n",
       "50%    1100.500000    3.000000   27.000000    0.000000    0.000000   14.454200\n",
       "75%    1204.750000    3.000000   39.000000    1.000000    0.000000   31.500000\n",
       "max    1309.000000    3.000000   76.000000    8.000000    9.000000  512.329200"
      ]
     },
     "execution_count": 12,
     "metadata": {},
     "output_type": "execute_result"
    }
   ],
   "source": [
    "B.describe()"
   ]
  },
  {
   "cell_type": "markdown",
   "id": "aaa18dc2",
   "metadata": {
    "papermill": {
     "duration": 0.022298,
     "end_time": "2022-05-26T18:39:29.121386",
     "exception": false,
     "start_time": "2022-05-26T18:39:29.099088",
     "status": "completed"
    },
    "tags": []
   },
   "source": [
    "# Change Setting"
   ]
  },
  {
   "cell_type": "code",
   "execution_count": 13,
   "id": "1d2db463",
   "metadata": {
    "execution": {
     "iopub.execute_input": "2022-05-26T18:39:29.170635Z",
     "iopub.status.busy": "2022-05-26T18:39:29.169710Z",
     "iopub.status.idle": "2022-05-26T18:39:29.175660Z",
     "shell.execute_reply": "2022-05-26T18:39:29.174679Z"
    },
    "papermill": {
     "duration": 0.03285,
     "end_time": "2022-05-26T18:39:29.178258",
     "exception": false,
     "start_time": "2022-05-26T18:39:29.145408",
     "status": "completed"
    },
    "tags": []
   },
   "outputs": [],
   "source": [
    "from warnings import filterwarnings\n",
    "filterwarnings(\"ignore\")"
   ]
  },
  {
   "cell_type": "markdown",
   "id": "ef2430d5",
   "metadata": {
    "papermill": {
     "duration": 0.021892,
     "end_time": "2022-05-26T18:39:29.222323",
     "exception": false,
     "start_time": "2022-05-26T18:39:29.200431",
     "status": "completed"
    },
    "tags": []
   },
   "source": [
    "# Missing Data Treatment"
   ]
  },
  {
   "cell_type": "code",
   "execution_count": 14,
   "id": "352d3259",
   "metadata": {
    "execution": {
     "iopub.execute_input": "2022-05-26T18:39:29.269946Z",
     "iopub.status.busy": "2022-05-26T18:39:29.269014Z",
     "iopub.status.idle": "2022-05-26T18:39:29.281666Z",
     "shell.execute_reply": "2022-05-26T18:39:29.280564Z"
    },
    "papermill": {
     "duration": 0.03914,
     "end_time": "2022-05-26T18:39:29.284050",
     "exception": false,
     "start_time": "2022-05-26T18:39:29.244910",
     "status": "completed"
    },
    "tags": []
   },
   "outputs": [
    {
     "data": {
      "text/plain": [
       "PassengerId      0\n",
       "Survived         0\n",
       "Pclass           0\n",
       "Name             0\n",
       "Sex              0\n",
       "Age            177\n",
       "SibSp            0\n",
       "Parch            0\n",
       "Ticket           0\n",
       "Fare             0\n",
       "Cabin          687\n",
       "Embarked         2\n",
       "dtype: int64"
      ]
     },
     "execution_count": 14,
     "metadata": {},
     "output_type": "execute_result"
    }
   ],
   "source": [
    "A.isna().sum()"
   ]
  },
  {
   "cell_type": "code",
   "execution_count": 15,
   "id": "9171fcc3",
   "metadata": {
    "execution": {
     "iopub.execute_input": "2022-05-26T18:39:29.330941Z",
     "iopub.status.busy": "2022-05-26T18:39:29.330108Z",
     "iopub.status.idle": "2022-05-26T18:39:29.346510Z",
     "shell.execute_reply": "2022-05-26T18:39:29.345452Z"
    },
    "papermill": {
     "duration": 0.043059,
     "end_time": "2022-05-26T18:39:29.349246",
     "exception": false,
     "start_time": "2022-05-26T18:39:29.306187",
     "status": "completed"
    },
    "tags": []
   },
   "outputs": [],
   "source": [
    "for i in A.columns:\n",
    "    if(A[i].dtype==\"object\"):\n",
    "        x=A[i].mode()[0]\n",
    "        A[i]=A[i].fillna(x)\n",
    "    else:\n",
    "        x=A[i].mean()\n",
    "        A[i]=A[i].fillna(x)"
   ]
  },
  {
   "cell_type": "code",
   "execution_count": 16,
   "id": "20e2f920",
   "metadata": {
    "execution": {
     "iopub.execute_input": "2022-05-26T18:39:29.397157Z",
     "iopub.status.busy": "2022-05-26T18:39:29.396564Z",
     "iopub.status.idle": "2022-05-26T18:39:29.407561Z",
     "shell.execute_reply": "2022-05-26T18:39:29.406674Z"
    },
    "papermill": {
     "duration": 0.037955,
     "end_time": "2022-05-26T18:39:29.409857",
     "exception": false,
     "start_time": "2022-05-26T18:39:29.371902",
     "status": "completed"
    },
    "tags": []
   },
   "outputs": [
    {
     "data": {
      "text/plain": [
       "PassengerId    0\n",
       "Survived       0\n",
       "Pclass         0\n",
       "Name           0\n",
       "Sex            0\n",
       "Age            0\n",
       "SibSp          0\n",
       "Parch          0\n",
       "Ticket         0\n",
       "Fare           0\n",
       "Cabin          0\n",
       "Embarked       0\n",
       "dtype: int64"
      ]
     },
     "execution_count": 16,
     "metadata": {},
     "output_type": "execute_result"
    }
   ],
   "source": [
    "A.isna().sum()"
   ]
  },
  {
   "cell_type": "code",
   "execution_count": 17,
   "id": "fa983ad6",
   "metadata": {
    "execution": {
     "iopub.execute_input": "2022-05-26T18:39:29.458052Z",
     "iopub.status.busy": "2022-05-26T18:39:29.457329Z",
     "iopub.status.idle": "2022-05-26T18:39:29.467188Z",
     "shell.execute_reply": "2022-05-26T18:39:29.466330Z"
    },
    "papermill": {
     "duration": 0.036771,
     "end_time": "2022-05-26T18:39:29.469243",
     "exception": false,
     "start_time": "2022-05-26T18:39:29.432472",
     "status": "completed"
    },
    "tags": []
   },
   "outputs": [
    {
     "data": {
      "text/plain": [
       "PassengerId      0\n",
       "Pclass           0\n",
       "Name             0\n",
       "Sex              0\n",
       "Age             86\n",
       "SibSp            0\n",
       "Parch            0\n",
       "Ticket           0\n",
       "Fare             1\n",
       "Cabin          327\n",
       "Embarked         0\n",
       "dtype: int64"
      ]
     },
     "execution_count": 17,
     "metadata": {},
     "output_type": "execute_result"
    }
   ],
   "source": [
    "B.isna().sum()"
   ]
  },
  {
   "cell_type": "code",
   "execution_count": 18,
   "id": "c3f8e9ff",
   "metadata": {
    "execution": {
     "iopub.execute_input": "2022-05-26T18:39:29.517130Z",
     "iopub.status.busy": "2022-05-26T18:39:29.516388Z",
     "iopub.status.idle": "2022-05-26T18:39:29.535296Z",
     "shell.execute_reply": "2022-05-26T18:39:29.534062Z"
    },
    "papermill": {
     "duration": 0.046533,
     "end_time": "2022-05-26T18:39:29.538494",
     "exception": false,
     "start_time": "2022-05-26T18:39:29.491961",
     "status": "completed"
    },
    "tags": []
   },
   "outputs": [],
   "source": [
    "for i in B.columns:\n",
    "    if(B[i].dtype==\"object\"):\n",
    "        x=B[i].mode()[0]\n",
    "        B[i]=B[i].fillna(x)\n",
    "    else:\n",
    "        x=B[i].mean()\n",
    "        B[i]=B[i].fillna(x)"
   ]
  },
  {
   "cell_type": "code",
   "execution_count": 19,
   "id": "aa2ada01",
   "metadata": {
    "execution": {
     "iopub.execute_input": "2022-05-26T18:39:29.587313Z",
     "iopub.status.busy": "2022-05-26T18:39:29.586825Z",
     "iopub.status.idle": "2022-05-26T18:39:29.597352Z",
     "shell.execute_reply": "2022-05-26T18:39:29.596032Z"
    },
    "papermill": {
     "duration": 0.038311,
     "end_time": "2022-05-26T18:39:29.599831",
     "exception": false,
     "start_time": "2022-05-26T18:39:29.561520",
     "status": "completed"
    },
    "tags": []
   },
   "outputs": [
    {
     "data": {
      "text/plain": [
       "PassengerId    0\n",
       "Pclass         0\n",
       "Name           0\n",
       "Sex            0\n",
       "Age            0\n",
       "SibSp          0\n",
       "Parch          0\n",
       "Ticket         0\n",
       "Fare           0\n",
       "Cabin          0\n",
       "Embarked       0\n",
       "dtype: int64"
      ]
     },
     "execution_count": 19,
     "metadata": {},
     "output_type": "execute_result"
    }
   ],
   "source": [
    "B.isna().sum()"
   ]
  },
  {
   "cell_type": "markdown",
   "id": "d1342d89",
   "metadata": {
    "papermill": {
     "duration": 0.022946,
     "end_time": "2022-05-26T18:39:29.645808",
     "exception": false,
     "start_time": "2022-05-26T18:39:29.622862",
     "status": "completed"
    },
    "tags": []
   },
   "source": [
    "# Define X and Y"
   ]
  },
  {
   "cell_type": "code",
   "execution_count": 20,
   "id": "b03074ac",
   "metadata": {
    "execution": {
     "iopub.execute_input": "2022-05-26T18:39:29.694814Z",
     "iopub.status.busy": "2022-05-26T18:39:29.694016Z",
     "iopub.status.idle": "2022-05-26T18:39:29.699836Z",
     "shell.execute_reply": "2022-05-26T18:39:29.698858Z"
    },
    "papermill": {
     "duration": 0.033409,
     "end_time": "2022-05-26T18:39:29.702159",
     "exception": false,
     "start_time": "2022-05-26T18:39:29.668750",
     "status": "completed"
    },
    "tags": []
   },
   "outputs": [],
   "source": [
    "Y=A[[\"Survived\"]]"
   ]
  },
  {
   "cell_type": "markdown",
   "id": "93443e4d",
   "metadata": {
    "papermill": {
     "duration": 0.023036,
     "end_time": "2022-05-26T18:39:29.747466",
     "exception": false,
     "start_time": "2022-05-26T18:39:29.724430",
     "status": "completed"
    },
    "tags": []
   },
   "source": [
    "A.drop(labels=[\"PassengerId\",\"Name\"],axis=1,inplace=True)"
   ]
  },
  {
   "cell_type": "code",
   "execution_count": 21,
   "id": "5a059232",
   "metadata": {
    "execution": {
     "iopub.execute_input": "2022-05-26T18:39:29.798988Z",
     "iopub.status.busy": "2022-05-26T18:39:29.798130Z",
     "iopub.status.idle": "2022-05-26T18:39:29.805230Z",
     "shell.execute_reply": "2022-05-26T18:39:29.803893Z"
    },
    "papermill": {
     "duration": 0.037447,
     "end_time": "2022-05-26T18:39:29.807796",
     "exception": false,
     "start_time": "2022-05-26T18:39:29.770349",
     "status": "completed"
    },
    "tags": []
   },
   "outputs": [
    {
     "data": {
      "text/plain": [
       "Index(['PassengerId', 'Survived', 'Pclass', 'Name', 'Sex', 'Age', 'SibSp',\n",
       "       'Parch', 'Ticket', 'Fare', 'Cabin', 'Embarked'],\n",
       "      dtype='object')"
      ]
     },
     "execution_count": 21,
     "metadata": {},
     "output_type": "execute_result"
    }
   ],
   "source": [
    "A.columns"
   ]
  },
  {
   "cell_type": "markdown",
   "id": "22242d66",
   "metadata": {
    "papermill": {
     "duration": 0.023386,
     "end_time": "2022-05-26T18:39:29.854707",
     "exception": false,
     "start_time": "2022-05-26T18:39:29.831321",
     "status": "completed"
    },
    "tags": []
   },
   "source": [
    "# EDA(Exploratory Data Analysis)"
   ]
  },
  {
   "cell_type": "code",
   "execution_count": 22,
   "id": "cc9d125f",
   "metadata": {
    "execution": {
     "iopub.execute_input": "2022-05-26T18:39:29.903641Z",
     "iopub.status.busy": "2022-05-26T18:39:29.902856Z",
     "iopub.status.idle": "2022-05-26T18:39:31.344271Z",
     "shell.execute_reply": "2022-05-26T18:39:31.343200Z"
    },
    "papermill": {
     "duration": 1.469238,
     "end_time": "2022-05-26T18:39:31.347788",
     "exception": false,
     "start_time": "2022-05-26T18:39:29.878550",
     "status": "completed"
    },
    "tags": []
   },
   "outputs": [],
   "source": [
    "import seaborn as sb\n",
    "import matplotlib.pyplot as plt"
   ]
  },
  {
   "cell_type": "code",
   "execution_count": 23,
   "id": "13db2049",
   "metadata": {
    "execution": {
     "iopub.execute_input": "2022-05-26T18:39:31.400916Z",
     "iopub.status.busy": "2022-05-26T18:39:31.399985Z",
     "iopub.status.idle": "2022-05-26T18:39:31.406995Z",
     "shell.execute_reply": "2022-05-26T18:39:31.406061Z"
    },
    "papermill": {
     "duration": 0.038016,
     "end_time": "2022-05-26T18:39:31.409609",
     "exception": false,
     "start_time": "2022-05-26T18:39:31.371593",
     "status": "completed"
    },
    "tags": []
   },
   "outputs": [],
   "source": [
    "cat=[]\n",
    "con=[]\n",
    "\n",
    "for i in A.columns:\n",
    "    if(A[i].dtype==\"object\"):\n",
    "        cat.append(i)\n",
    "    else:\n",
    "        con.append(i)"
   ]
  },
  {
   "cell_type": "code",
   "execution_count": 24,
   "id": "19a6eec7",
   "metadata": {
    "execution": {
     "iopub.execute_input": "2022-05-26T18:39:31.458161Z",
     "iopub.status.busy": "2022-05-26T18:39:31.457637Z",
     "iopub.status.idle": "2022-05-26T18:39:32.816765Z",
     "shell.execute_reply": "2022-05-26T18:39:32.815215Z"
    },
    "papermill": {
     "duration": 1.387256,
     "end_time": "2022-05-26T18:39:32.819938",
     "exception": false,
     "start_time": "2022-05-26T18:39:31.432682",
     "status": "completed"
    },
    "tags": []
   },
   "outputs": [
    {
     "data": {
      "image/png": "[encoded data removed]",
      "text/plain": [
       "<Figure size 360x360 with 1 Axes>"
      ]
     },
     "metadata": {
      "needs_background": "light"
     },
     "output_type": "display_data"
    },
    {
     "data": {
      "image/png": "[encoded data removed]",
      "text/plain": [
       "<Figure size 360x360 with 1 Axes>"
      ]
     },
     "metadata": {
      "needs_background": "light"
     },
     "output_type": "display_data"
    },
    {
     "data": {
      "image/png": "[encoded data removed]",
      "text/plain": [
       "<Figure size 360x360 with 1 Axes>"
      ]
     },
     "metadata": {
      "needs_background": "light"
     },
     "output_type": "display_data"
    },
    {
     "data": {
      "image/png": "[encoded data removed]",
      "text/plain": [
       "<Figure size 360x360 with 1 Axes>"
      ]
     },
     "metadata": {
      "needs_background": "light"
     },
     "output_type": "display_data"
    },
    {
     "data": {
      "image/png": "[encoded data removed]",
      "text/plain": [
       "<Figure size 360x360 with 1 Axes>"
      ]
     },
     "metadata": {
      "needs_background": "light"
     },
     "output_type": "display_data"
    },
    {
     "data": {
      "image/png": "[encoded data removed]",
      "text/plain": [
       "<Figure size 360x360 with 1 Axes>"
      ]
     },
     "metadata": {
      "needs_background": "light"
     },
     "output_type": "display_data"
    },
    {
     "data": {
      "image/png": "[encoded data removed]",
      "text/plain": [
       "<Figure size 360x360 with 1 Axes>"
      ]
     },
     "metadata": {
      "needs_background": "light"
     },
     "output_type": "display_data"
    }
   ],
   "source": [
    "for i in con:\n",
    "    plt.figure(figsize=(5,5))\n",
    "    sb.boxplot(A.Survived,A[i])\n",
    "    plt.show()"
   ]
  },
  {
   "cell_type": "code",
   "execution_count": 25,
   "id": "8af085a7",
   "metadata": {
    "execution": {
     "iopub.execute_input": "2022-05-26T18:39:32.878929Z",
     "iopub.status.busy": "2022-05-26T18:39:32.877583Z",
     "iopub.status.idle": "2022-05-26T18:40:20.109979Z",
     "shell.execute_reply": "2022-05-26T18:40:20.108493Z"
    },
    "papermill": {
     "duration": 47.26554,
     "end_time": "2022-05-26T18:40:20.112776",
     "exception": false,
     "start_time": "2022-05-26T18:39:32.847236",
     "status": "completed"
    },
    "tags": []
   },
   "outputs": [
    {
     "data": {
      "image/png": "[encoded data removed]",
      "text/plain": [
       "<Figure size 432x288 with 1 Axes>"
      ]
     },
     "metadata": {
      "needs_background": "light"
     },
     "output_type": "display_data"
    },
    {
     "data": {
      "image/png": "[encoded data removed]",
      "text/plain": [
       "<Figure size 432x288 with 1 Axes>"
      ]
     },
     "metadata": {
      "needs_background": "light"
     },
     "output_type": "display_data"
    },
    {
     "data": {
      "image/png": "[encoded data removed]",
      "text/plain": [
       "<Figure size 432x288 with 1 Axes>"
      ]
     },
     "metadata": {
      "needs_background": "light"
     },
     "output_type": "display_data"
    },
    {
     "data": {
      "image/png": "[encoded data removed]",
      "text/plain": [
       "<Figure size 432x288 with 1 Axes>"
      ]
     },
     "metadata": {
      "needs_background": "light"
     },
     "output_type": "display_data"
    },
    {
     "data": {
      "image/png": "[encoded data removed]",
      "text/plain": [
       "<Figure size 432x288 with 1 Axes>"
      ]
     },
     "metadata": {
      "needs_background": "light"
     },
     "output_type": "display_data"
    }
   ],
   "source": [
    "for i in cat:\n",
    "    sb.boxplot(A[i],A.Survived)\n",
    "    plt.show()"
   ]
  },
  {
   "cell_type": "code",
   "execution_count": 26,
   "id": "3e96385a",
   "metadata": {
    "execution": {
     "iopub.execute_input": "2022-05-26T18:40:20.168720Z",
     "iopub.status.busy": "2022-05-26T18:40:20.168231Z",
     "iopub.status.idle": "2022-05-26T18:40:20.498868Z",
     "shell.execute_reply": "2022-05-26T18:40:20.497860Z"
    },
    "papermill": {
     "duration": 0.362412,
     "end_time": "2022-05-26T18:40:20.501336",
     "exception": false,
     "start_time": "2022-05-26T18:40:20.138924",
     "status": "completed"
    },
    "tags": []
   },
   "outputs": [
    {
     "data": {
      "image/png": "[encoded data removed]",
      "text/plain": [
       "<Figure size 720x864 with 2 Axes>"
      ]
     },
     "metadata": {
      "needs_background": "light"
     },
     "output_type": "display_data"
    }
   ],
   "source": [
    "import numpy as np\n",
    "\n",
    "matrix = A.corr()\n",
    "mask=np.triu(np.ones_like(matrix,dtype=bool))\n",
    "f, ax = plt.subplots(figsize=(10, 12))\n",
    "#cmap=A.diverging_palette(230,20,as_cmap=True)\n",
    "sb.heatmap(matrix, mask=mask, vmax=3, cmap=\"BuPu\",center=0,square=True,linewidth=.5,cbar_kws={\"shrink\":.5})\n",
    "plt.title(\"Correlation Matrix\")\n",
    "plt.show()\n"
   ]
  },
  {
   "cell_type": "code",
   "execution_count": 27,
   "id": "073318ec",
   "metadata": {
    "execution": {
     "iopub.execute_input": "2022-05-26T18:40:20.556302Z",
     "iopub.status.busy": "2022-05-26T18:40:20.555552Z",
     "iopub.status.idle": "2022-05-26T18:40:20.567615Z",
     "shell.execute_reply": "2022-05-26T18:40:20.566816Z"
    },
    "papermill": {
     "duration": 0.042659,
     "end_time": "2022-05-26T18:40:20.570199",
     "exception": false,
     "start_time": "2022-05-26T18:40:20.527540",
     "status": "completed"
    },
    "tags": []
   },
   "outputs": [
    {
     "data": {
      "text/plain": [
       "PassengerId    0.000000\n",
       "Survived       0.478523\n",
       "Pclass        -0.630548\n",
       "Age            0.434488\n",
       "SibSp          3.695352\n",
       "Parch          2.749117\n",
       "Fare           4.787317\n",
       "dtype: float64"
      ]
     },
     "execution_count": 27,
     "metadata": {},
     "output_type": "execute_result"
    }
   ],
   "source": [
    "A.skew()"
   ]
  },
  {
   "cell_type": "code",
   "execution_count": 28,
   "id": "c679df57",
   "metadata": {
    "execution": {
     "iopub.execute_input": "2022-05-26T18:40:20.625538Z",
     "iopub.status.busy": "2022-05-26T18:40:20.625052Z",
     "iopub.status.idle": "2022-05-26T18:40:20.633845Z",
     "shell.execute_reply": "2022-05-26T18:40:20.632968Z"
    },
    "papermill": {
     "duration": 0.039526,
     "end_time": "2022-05-26T18:40:20.636511",
     "exception": false,
     "start_time": "2022-05-26T18:40:20.596985",
     "status": "completed"
    },
    "tags": []
   },
   "outputs": [],
   "source": [
    "Q = A.skew()\n",
    "cols_with_skew = list(Q[Q > 2].index)"
   ]
  },
  {
   "cell_type": "code",
   "execution_count": 29,
   "id": "3c99aa3f",
   "metadata": {
    "execution": {
     "iopub.execute_input": "2022-05-26T18:40:20.692622Z",
     "iopub.status.busy": "2022-05-26T18:40:20.691931Z",
     "iopub.status.idle": "2022-05-26T18:40:20.703300Z",
     "shell.execute_reply": "2022-05-26T18:40:20.702150Z"
    },
    "papermill": {
     "duration": 0.042065,
     "end_time": "2022-05-26T18:40:20.705894",
     "exception": false,
     "start_time": "2022-05-26T18:40:20.663829",
     "status": "completed"
    },
    "tags": []
   },
   "outputs": [],
   "source": [
    "import numpy as np\n",
    "for j in cols_with_skew:\n",
    "    W = []\n",
    "    for i in B[j]:\n",
    "        if(i != 0):\n",
    "            W.append(np.log(i))\n",
    "        else:\n",
    "            W.append(i)\n",
    "    B[j] = W"
   ]
  },
  {
   "cell_type": "code",
   "execution_count": 30,
   "id": "43da5952",
   "metadata": {
    "execution": {
     "iopub.execute_input": "2022-05-26T18:40:20.761336Z",
     "iopub.status.busy": "2022-05-26T18:40:20.760879Z",
     "iopub.status.idle": "2022-05-26T18:40:20.773511Z",
     "shell.execute_reply": "2022-05-26T18:40:20.772202Z"
    },
    "papermill": {
     "duration": 0.044613,
     "end_time": "2022-05-26T18:40:20.776948",
     "exception": false,
     "start_time": "2022-05-26T18:40:20.732335",
     "status": "completed"
    },
    "tags": []
   },
   "outputs": [
    {
     "data": {
      "text/plain": [
       "PassengerId    0.000000\n",
       "Survived       0.478523\n",
       "Pclass        -0.630548\n",
       "Age            0.434488\n",
       "SibSp          3.695352\n",
       "Parch          2.749117\n",
       "Fare           4.787317\n",
       "dtype: float64"
      ]
     },
     "execution_count": 30,
     "metadata": {},
     "output_type": "execute_result"
    }
   ],
   "source": [
    "A.skew()"
   ]
  },
  {
   "cell_type": "markdown",
   "id": "5d5f86d9",
   "metadata": {
    "papermill": {
     "duration": 0.026305,
     "end_time": "2022-05-26T18:40:20.830907",
     "exception": false,
     "start_time": "2022-05-26T18:40:20.804602",
     "status": "completed"
    },
    "tags": []
   },
   "source": [
    "# Drop Unwanted Columns"
   ]
  },
  {
   "cell_type": "code",
   "execution_count": 31,
   "id": "181bfbdd",
   "metadata": {
    "execution": {
     "iopub.execute_input": "2022-05-26T18:40:20.886413Z",
     "iopub.status.busy": "2022-05-26T18:40:20.885960Z",
     "iopub.status.idle": "2022-05-26T18:40:20.894773Z",
     "shell.execute_reply": "2022-05-26T18:40:20.893952Z"
    },
    "papermill": {
     "duration": 0.039502,
     "end_time": "2022-05-26T18:40:20.897057",
     "exception": false,
     "start_time": "2022-05-26T18:40:20.857555",
     "status": "completed"
    },
    "tags": []
   },
   "outputs": [],
   "source": [
    "Y=A[[\"Survived\"]]\n",
    "\n",
    "X=A.drop(labels=[\"Survived\"],axis=1)\n",
    "\n"
   ]
  },
  {
   "cell_type": "markdown",
   "id": "a4b8f22a",
   "metadata": {
    "papermill": {
     "duration": 0.028204,
     "end_time": "2022-05-26T18:40:20.952670",
     "exception": false,
     "start_time": "2022-05-26T18:40:20.924466",
     "status": "completed"
    },
    "tags": []
   },
   "source": [
    "# Creat a Function"
   ]
  },
  {
   "cell_type": "code",
   "execution_count": 32,
   "id": "02134694",
   "metadata": {
    "execution": {
     "iopub.execute_input": "2022-05-26T18:40:21.008847Z",
     "iopub.status.busy": "2022-05-26T18:40:21.008346Z",
     "iopub.status.idle": "2022-05-26T18:40:21.014627Z",
     "shell.execute_reply": "2022-05-26T18:40:21.013815Z"
    },
    "papermill": {
     "duration": 0.036867,
     "end_time": "2022-05-26T18:40:21.016866",
     "exception": false,
     "start_time": "2022-05-26T18:40:20.979999",
     "status": "completed"
    },
    "tags": []
   },
   "outputs": [],
   "source": [
    "def ANOVA(df,cat,con):\n",
    "    from statsmodels.formula.api import ols\n",
    "    relation = con + \" ~ \" + cat\n",
    "    model = ols(relation,df).fit()\n",
    "    from statsmodels.stats.anova import anova_lm\n",
    "    anova_results = anova_lm(model)\n",
    "    return round(anova_results.iloc[0,4],4)\n"
   ]
  },
  {
   "cell_type": "code",
   "execution_count": 33,
   "id": "134c4c99",
   "metadata": {
    "execution": {
     "iopub.execute_input": "2022-05-26T18:40:21.074162Z",
     "iopub.status.busy": "2022-05-26T18:40:21.073443Z",
     "iopub.status.idle": "2022-05-26T18:40:21.079199Z",
     "shell.execute_reply": "2022-05-26T18:40:21.078096Z"
    },
    "papermill": {
     "duration": 0.038054,
     "end_time": "2022-05-26T18:40:21.081530",
     "exception": false,
     "start_time": "2022-05-26T18:40:21.043476",
     "status": "completed"
    },
    "tags": []
   },
   "outputs": [],
   "source": [
    "def chisq(df,cat1,cat2):\n",
    "    import pandas as pd\n",
    "    from scipy.stats import chi2_contingency\n",
    "    ct = pd.crosstab(df[cat1],df[cat2])\n",
    "    a,b,c,d = chi2_contingency(ct)\n",
    "    return b"
   ]
  },
  {
   "cell_type": "code",
   "execution_count": 34,
   "id": "1b32c0cd",
   "metadata": {
    "execution": {
     "iopub.execute_input": "2022-05-26T18:40:21.137734Z",
     "iopub.status.busy": "2022-05-26T18:40:21.137066Z",
     "iopub.status.idle": "2022-05-26T18:40:21.799010Z",
     "shell.execute_reply": "2022-05-26T18:40:21.797386Z"
    },
    "papermill": {
     "duration": 0.693871,
     "end_time": "2022-05-26T18:40:21.802344",
     "exception": false,
     "start_time": "2022-05-26T18:40:21.108473",
     "status": "completed"
    },
    "tags": []
   },
   "outputs": [],
   "source": [
    "imp_cat=[]\n",
    "imp_con=[]\n",
    "\n",
    "\n",
    "for i in X.columns:\n",
    "    if(X[i].dtype==\"object\"):\n",
    "        q=chisq(A,\"Survived\",i)\n",
    "        if(q<0.05):\n",
    "            imp_cat.append(i)\n",
    "    else:\n",
    "        q=ANOVA(A,\"Survived\",i)\n",
    "        if(q<0.05):\n",
    "            imp_con.append(i)"
   ]
  },
  {
   "cell_type": "code",
   "execution_count": 35,
   "id": "80a37470",
   "metadata": {
    "execution": {
     "iopub.execute_input": "2022-05-26T18:40:21.862232Z",
     "iopub.status.busy": "2022-05-26T18:40:21.861800Z",
     "iopub.status.idle": "2022-05-26T18:40:21.870022Z",
     "shell.execute_reply": "2022-05-26T18:40:21.868606Z"
    },
    "papermill": {
     "duration": 0.041792,
     "end_time": "2022-05-26T18:40:21.872435",
     "exception": false,
     "start_time": "2022-05-26T18:40:21.830643",
     "status": "completed"
    },
    "tags": []
   },
   "outputs": [
    {
     "data": {
      "text/plain": [
       "['Sex', 'Ticket', 'Cabin', 'Embarked']"
      ]
     },
     "execution_count": 35,
     "metadata": {},
     "output_type": "execute_result"
    }
   ],
   "source": [
    "imp_cat"
   ]
  },
  {
   "cell_type": "code",
   "execution_count": 36,
   "id": "ace1afe3",
   "metadata": {
    "execution": {
     "iopub.execute_input": "2022-05-26T18:40:21.931905Z",
     "iopub.status.busy": "2022-05-26T18:40:21.930855Z",
     "iopub.status.idle": "2022-05-26T18:40:21.939950Z",
     "shell.execute_reply": "2022-05-26T18:40:21.938327Z"
    },
    "papermill": {
     "duration": 0.041386,
     "end_time": "2022-05-26T18:40:21.942648",
     "exception": false,
     "start_time": "2022-05-26T18:40:21.901262",
     "status": "completed"
    },
    "tags": []
   },
   "outputs": [
    {
     "data": {
      "text/plain": [
       "['Pclass', 'Age', 'Parch', 'Fare']"
      ]
     },
     "execution_count": 36,
     "metadata": {},
     "output_type": "execute_result"
    }
   ],
   "source": [
    "imp_con"
   ]
  },
  {
   "cell_type": "code",
   "execution_count": 37,
   "id": "eb3042a3",
   "metadata": {
    "execution": {
     "iopub.execute_input": "2022-05-26T18:40:22.000938Z",
     "iopub.status.busy": "2022-05-26T18:40:22.000312Z",
     "iopub.status.idle": "2022-05-26T18:40:22.007880Z",
     "shell.execute_reply": "2022-05-26T18:40:22.006373Z"
    },
    "papermill": {
     "duration": 0.04067,
     "end_time": "2022-05-26T18:40:22.010869",
     "exception": false,
     "start_time": "2022-05-26T18:40:21.970199",
     "status": "completed"
    },
    "tags": []
   },
   "outputs": [],
   "source": [
    "imp_cols=imp_con+imp_cat"
   ]
  },
  {
   "cell_type": "code",
   "execution_count": 38,
   "id": "aa30c6bc",
   "metadata": {
    "execution": {
     "iopub.execute_input": "2022-05-26T18:40:22.065292Z",
     "iopub.status.busy": "2022-05-26T18:40:22.064779Z",
     "iopub.status.idle": "2022-05-26T18:40:22.074356Z",
     "shell.execute_reply": "2022-05-26T18:40:22.072867Z"
    },
    "papermill": {
     "duration": 0.039923,
     "end_time": "2022-05-26T18:40:22.076658",
     "exception": false,
     "start_time": "2022-05-26T18:40:22.036735",
     "status": "completed"
    },
    "tags": []
   },
   "outputs": [
    {
     "data": {
      "text/plain": [
       "['Pclass', 'Age', 'Parch', 'Fare', 'Sex', 'Ticket', 'Cabin', 'Embarked']"
      ]
     },
     "execution_count": 38,
     "metadata": {},
     "output_type": "execute_result"
    }
   ],
   "source": [
    "imp_cols"
   ]
  },
  {
   "cell_type": "markdown",
   "id": "2bc3caf2",
   "metadata": {
    "papermill": {
     "duration": 0.027753,
     "end_time": "2022-05-26T18:40:22.131189",
     "exception": false,
     "start_time": "2022-05-26T18:40:22.103436",
     "status": "completed"
    },
    "tags": []
   },
   "source": [
    "# Preprocessing Data"
   ]
  },
  {
   "cell_type": "markdown",
   "id": "b5334b52",
   "metadata": {
    "papermill": {
     "duration": 0.028321,
     "end_time": "2022-05-26T18:40:22.188015",
     "exception": false,
     "start_time": "2022-05-26T18:40:22.159694",
     "status": "completed"
    },
    "tags": []
   },
   "source": [
    "creat Function"
   ]
  },
  {
   "cell_type": "code",
   "execution_count": 39,
   "id": "378c4790",
   "metadata": {
    "execution": {
     "iopub.execute_input": "2022-05-26T18:40:22.247828Z",
     "iopub.status.busy": "2022-05-26T18:40:22.246537Z",
     "iopub.status.idle": "2022-05-26T18:40:22.254500Z",
     "shell.execute_reply": "2022-05-26T18:40:22.253531Z"
    },
    "papermill": {
     "duration": 0.040045,
     "end_time": "2022-05-26T18:40:22.256995",
     "exception": false,
     "start_time": "2022-05-26T18:40:22.216950",
     "status": "completed"
    },
    "tags": []
   },
   "outputs": [],
   "source": [
    "def preprocessing(df):\n",
    "    import pandas as pd\n",
    "    cat = []\n",
    "    con = []\n",
    "    for i in df.columns:\n",
    "        if(df[i].dtypes == \"object\"):\n",
    "            cat.append(i)\n",
    "        else:\n",
    "            con.append(i)\n",
    "    X1 = pd.get_dummies(df[cat])\n",
    "    from sklearn.preprocessing import StandardScaler\n",
    "    ss = StandardScaler()\n",
    "    X2 = pd.DataFrame(ss.fit_transform(df[con]),columns=con)\n",
    "    X3 = X2.join(X1)\n",
    "    return X3"
   ]
  },
  {
   "cell_type": "code",
   "execution_count": 40,
   "id": "8f63e1d1",
   "metadata": {
    "execution": {
     "iopub.execute_input": "2022-05-26T18:40:22.314521Z",
     "iopub.status.busy": "2022-05-26T18:40:22.313877Z",
     "iopub.status.idle": "2022-05-26T18:40:22.532704Z",
     "shell.execute_reply": "2022-05-26T18:40:22.531001Z"
    },
    "papermill": {
     "duration": 0.251179,
     "end_time": "2022-05-26T18:40:22.536072",
     "exception": false,
     "start_time": "2022-05-26T18:40:22.284893",
     "status": "completed"
    },
    "tags": []
   },
   "outputs": [],
   "source": [
    "Xnew=preprocessing(A[imp_cols])"
   ]
  },
  {
   "cell_type": "code",
   "execution_count": 41,
   "id": "8c31d8af",
   "metadata": {
    "execution": {
     "iopub.execute_input": "2022-05-26T18:40:22.592612Z",
     "iopub.status.busy": "2022-05-26T18:40:22.591481Z",
     "iopub.status.idle": "2022-05-26T18:40:22.619588Z",
     "shell.execute_reply": "2022-05-26T18:40:22.618004Z"
    },
    "papermill": {
     "duration": 0.059981,
     "end_time": "2022-05-26T18:40:22.622709",
     "exception": false,
     "start_time": "2022-05-26T18:40:22.562728",
     "status": "completed"
    },
    "tags": []
   },
   "outputs": [
    {
     "data": {
      "text/html": [
       "<div>\n",
       "<style scoped>\n",
       "    .dataframe tbody tr th:only-of-type {\n",
       "        vertical-align: middle;\n",
       "    }\n",
       "\n",
       "    .dataframe tbody tr th {\n",
       "        vertical-align: top;\n",
       "    }\n",
       "\n",
       "    .dataframe thead th {\n",
       "        text-align: right;\n",
       "    }\n",
       "</style>\n",
       "<table border=\"1\" class=\"dataframe\">\n",
       "  <thead>\n",
       "    <tr style=\"text-align: right;\">\n",
       "      <th></th>\n",
       "      <th>Pclass</th>\n",
       "      <th>Age</th>\n",
       "      <th>Parch</th>\n",
       "      <th>Fare</th>\n",
       "      <th>Sex_female</th>\n",
       "      <th>Sex_male</th>\n",
       "      <th>Ticket_110152</th>\n",
       "      <th>Ticket_110413</th>\n",
       "      <th>Ticket_110465</th>\n",
       "      <th>Ticket_110564</th>\n",
       "      <th>...</th>\n",
       "      <th>Cabin_F G73</th>\n",
       "      <th>Cabin_F2</th>\n",
       "      <th>Cabin_F33</th>\n",
       "      <th>Cabin_F38</th>\n",
       "      <th>Cabin_F4</th>\n",
       "      <th>Cabin_G6</th>\n",
       "      <th>Cabin_T</th>\n",
       "      <th>Embarked_C</th>\n",
       "      <th>Embarked_Q</th>\n",
       "      <th>Embarked_S</th>\n",
       "    </tr>\n",
       "  </thead>\n",
       "  <tbody>\n",
       "    <tr>\n",
       "      <th>0</th>\n",
       "      <td>0.827377</td>\n",
       "      <td>-0.592481</td>\n",
       "      <td>-0.473674</td>\n",
       "      <td>-0.502445</td>\n",
       "      <td>0</td>\n",
       "      <td>1</td>\n",
       "      <td>0</td>\n",
       "      <td>0</td>\n",
       "      <td>0</td>\n",
       "      <td>0</td>\n",
       "      <td>...</td>\n",
       "      <td>0</td>\n",
       "      <td>0</td>\n",
       "      <td>0</td>\n",
       "      <td>0</td>\n",
       "      <td>0</td>\n",
       "      <td>0</td>\n",
       "      <td>0</td>\n",
       "      <td>0</td>\n",
       "      <td>0</td>\n",
       "      <td>1</td>\n",
       "    </tr>\n",
       "    <tr>\n",
       "      <th>1</th>\n",
       "      <td>-1.566107</td>\n",
       "      <td>0.638789</td>\n",
       "      <td>-0.473674</td>\n",
       "      <td>0.786845</td>\n",
       "      <td>1</td>\n",
       "      <td>0</td>\n",
       "      <td>0</td>\n",
       "      <td>0</td>\n",
       "      <td>0</td>\n",
       "      <td>0</td>\n",
       "      <td>...</td>\n",
       "      <td>0</td>\n",
       "      <td>0</td>\n",
       "      <td>0</td>\n",
       "      <td>0</td>\n",
       "      <td>0</td>\n",
       "      <td>0</td>\n",
       "      <td>0</td>\n",
       "      <td>1</td>\n",
       "      <td>0</td>\n",
       "      <td>0</td>\n",
       "    </tr>\n",
       "    <tr>\n",
       "      <th>2</th>\n",
       "      <td>0.827377</td>\n",
       "      <td>-0.284663</td>\n",
       "      <td>-0.473674</td>\n",
       "      <td>-0.488854</td>\n",
       "      <td>1</td>\n",
       "      <td>0</td>\n",
       "      <td>0</td>\n",
       "      <td>0</td>\n",
       "      <td>0</td>\n",
       "      <td>0</td>\n",
       "      <td>...</td>\n",
       "      <td>0</td>\n",
       "      <td>0</td>\n",
       "      <td>0</td>\n",
       "      <td>0</td>\n",
       "      <td>0</td>\n",
       "      <td>0</td>\n",
       "      <td>0</td>\n",
       "      <td>0</td>\n",
       "      <td>0</td>\n",
       "      <td>1</td>\n",
       "    </tr>\n",
       "    <tr>\n",
       "      <th>3</th>\n",
       "      <td>-1.566107</td>\n",
       "      <td>0.407926</td>\n",
       "      <td>-0.473674</td>\n",
       "      <td>0.420730</td>\n",
       "      <td>1</td>\n",
       "      <td>0</td>\n",
       "      <td>0</td>\n",
       "      <td>0</td>\n",
       "      <td>0</td>\n",
       "      <td>0</td>\n",
       "      <td>...</td>\n",
       "      <td>0</td>\n",
       "      <td>0</td>\n",
       "      <td>0</td>\n",
       "      <td>0</td>\n",
       "      <td>0</td>\n",
       "      <td>0</td>\n",
       "      <td>0</td>\n",
       "      <td>0</td>\n",
       "      <td>0</td>\n",
       "      <td>1</td>\n",
       "    </tr>\n",
       "    <tr>\n",
       "      <th>4</th>\n",
       "      <td>0.827377</td>\n",
       "      <td>0.407926</td>\n",
       "      <td>-0.473674</td>\n",
       "      <td>-0.486337</td>\n",
       "      <td>0</td>\n",
       "      <td>1</td>\n",
       "      <td>0</td>\n",
       "      <td>0</td>\n",
       "      <td>0</td>\n",
       "      <td>0</td>\n",
       "      <td>...</td>\n",
       "      <td>0</td>\n",
       "      <td>0</td>\n",
       "      <td>0</td>\n",
       "      <td>0</td>\n",
       "      <td>0</td>\n",
       "      <td>0</td>\n",
       "      <td>0</td>\n",
       "      <td>0</td>\n",
       "      <td>0</td>\n",
       "      <td>1</td>\n",
       "    </tr>\n",
       "  </tbody>\n",
       "</table>\n",
       "<p>5 rows × 837 columns</p>\n",
       "</div>"
      ],
      "text/plain": [
       "     Pclass       Age     Parch      Fare  Sex_female  Sex_male  \\\n",
       "0  0.827377 -0.592481 -0.473674 -0.502445           0         1   \n",
       "1 -1.566107  0.638789 -0.473674  0.786845           1         0   \n",
       "2  0.827377 -0.284663 -0.473674 -0.488854           1         0   \n",
       "3 -1.566107  0.407926 -0.473674  0.420730           1         0   \n",
       "4  0.827377  0.407926 -0.473674 -0.486337           0         1   \n",
       "\n",
       "   Ticket_110152  Ticket_110413  Ticket_110465  Ticket_110564  ...  \\\n",
       "0              0              0              0              0  ...   \n",
       "1              0              0              0              0  ...   \n",
       "2              0              0              0              0  ...   \n",
       "3              0              0              0              0  ...   \n",
       "4              0              0              0              0  ...   \n",
       "\n",
       "   Cabin_F G73  Cabin_F2  Cabin_F33  Cabin_F38  Cabin_F4  Cabin_G6  Cabin_T  \\\n",
       "0            0         0          0          0         0         0        0   \n",
       "1            0         0          0          0         0         0        0   \n",
       "2            0         0          0          0         0         0        0   \n",
       "3            0         0          0          0         0         0        0   \n",
       "4            0         0          0          0         0         0        0   \n",
       "\n",
       "   Embarked_C  Embarked_Q  Embarked_S  \n",
       "0           0           0           1  \n",
       "1           1           0           0  \n",
       "2           0           0           1  \n",
       "3           0           0           1  \n",
       "4           0           0           1  \n",
       "\n",
       "[5 rows x 837 columns]"
      ]
     },
     "execution_count": 41,
     "metadata": {},
     "output_type": "execute_result"
    }
   ],
   "source": [
    "Xnew.head()"
   ]
  },
  {
   "cell_type": "markdown",
   "id": "2b753a0b",
   "metadata": {
    "papermill": {
     "duration": 0.026692,
     "end_time": "2022-05-26T18:40:22.677515",
     "exception": false,
     "start_time": "2022-05-26T18:40:22.650823",
     "status": "completed"
    },
    "tags": []
   },
   "source": [
    "# Divide Data in Training and Testing"
   ]
  },
  {
   "cell_type": "code",
   "execution_count": 42,
   "id": "30a9af68",
   "metadata": {
    "execution": {
     "iopub.execute_input": "2022-05-26T18:40:22.734409Z",
     "iopub.status.busy": "2022-05-26T18:40:22.733909Z",
     "iopub.status.idle": "2022-05-26T18:40:22.825327Z",
     "shell.execute_reply": "2022-05-26T18:40:22.823860Z"
    },
    "papermill": {
     "duration": 0.123959,
     "end_time": "2022-05-26T18:40:22.828658",
     "exception": false,
     "start_time": "2022-05-26T18:40:22.704699",
     "status": "completed"
    },
    "tags": []
   },
   "outputs": [],
   "source": [
    "from sklearn.model_selection import train_test_split\n",
    "xtrain,xtest,ytrain,ytest=train_test_split(Xnew,Y,test_size=0.2,random_state=21)"
   ]
  },
  {
   "cell_type": "markdown",
   "id": "ca443934",
   "metadata": {
    "papermill": {
     "duration": 0.027021,
     "end_time": "2022-05-26T18:40:22.883827",
     "exception": false,
     "start_time": "2022-05-26T18:40:22.856806",
     "status": "completed"
    },
    "tags": []
   },
   "source": [
    "# Create Logistic Regression Model"
   ]
  },
  {
   "cell_type": "code",
   "execution_count": 43,
   "id": "5f84e8d6",
   "metadata": {
    "execution": {
     "iopub.execute_input": "2022-05-26T18:40:22.941209Z",
     "iopub.status.busy": "2022-05-26T18:40:22.940647Z",
     "iopub.status.idle": "2022-05-26T18:40:23.187014Z",
     "shell.execute_reply": "2022-05-26T18:40:23.185746Z"
    },
    "papermill": {
     "duration": 0.279319,
     "end_time": "2022-05-26T18:40:23.191482",
     "exception": false,
     "start_time": "2022-05-26T18:40:22.912163",
     "status": "completed"
    },
    "tags": []
   },
   "outputs": [],
   "source": [
    "from sklearn.linear_model import LogisticRegression\n",
    "lr=LogisticRegression()\n",
    "model=lr.fit(xtrain,ytrain)\n",
    "\n",
    "\n",
    "pred_tr = model.predict(xtrain)\n",
    "pred_ts = model.predict(xtest)\n",
    "\n",
    "from sklearn.metrics import accuracy_score\n",
    "tr_acc = accuracy_score(ytrain,pred_tr)\n",
    "ts_acc = accuracy_score(ytest,pred_ts)"
   ]
  },
  {
   "cell_type": "code",
   "execution_count": 44,
   "id": "c47858f4",
   "metadata": {
    "execution": {
     "iopub.execute_input": "2022-05-26T18:40:23.298094Z",
     "iopub.status.busy": "2022-05-26T18:40:23.297338Z",
     "iopub.status.idle": "2022-05-26T18:40:23.306418Z",
     "shell.execute_reply": "2022-05-26T18:40:23.305322Z"
    },
    "papermill": {
     "duration": 0.065023,
     "end_time": "2022-05-26T18:40:23.308906",
     "exception": false,
     "start_time": "2022-05-26T18:40:23.243883",
     "status": "completed"
    },
    "tags": []
   },
   "outputs": [
    {
     "data": {
      "text/plain": [
       "0.8904494382022472"
      ]
     },
     "execution_count": 44,
     "metadata": {},
     "output_type": "execute_result"
    }
   ],
   "source": [
    "tr_acc"
   ]
  },
  {
   "cell_type": "code",
   "execution_count": 45,
   "id": "0baf2017",
   "metadata": {
    "execution": {
     "iopub.execute_input": "2022-05-26T18:40:23.366580Z",
     "iopub.status.busy": "2022-05-26T18:40:23.365906Z",
     "iopub.status.idle": "2022-05-26T18:40:23.373260Z",
     "shell.execute_reply": "2022-05-26T18:40:23.372381Z"
    },
    "papermill": {
     "duration": 0.039613,
     "end_time": "2022-05-26T18:40:23.375728",
     "exception": false,
     "start_time": "2022-05-26T18:40:23.336115",
     "status": "completed"
    },
    "tags": []
   },
   "outputs": [
    {
     "data": {
      "text/plain": [
       "0.8268156424581006"
      ]
     },
     "execution_count": 45,
     "metadata": {},
     "output_type": "execute_result"
    }
   ],
   "source": [
    "ts_acc"
   ]
  },
  {
   "cell_type": "code",
   "execution_count": 46,
   "id": "2018e23c",
   "metadata": {
    "execution": {
     "iopub.execute_input": "2022-05-26T18:40:23.435078Z",
     "iopub.status.busy": "2022-05-26T18:40:23.434187Z",
     "iopub.status.idle": "2022-05-26T18:40:23.444129Z",
     "shell.execute_reply": "2022-05-26T18:40:23.443234Z"
    },
    "papermill": {
     "duration": 0.04182,
     "end_time": "2022-05-26T18:40:23.446277",
     "exception": false,
     "start_time": "2022-05-26T18:40:23.404457",
     "status": "completed"
    },
    "tags": []
   },
   "outputs": [
    {
     "data": {
      "text/plain": [
       "array([[92, 13],\n",
       "       [18, 56]])"
      ]
     },
     "execution_count": 46,
     "metadata": {},
     "output_type": "execute_result"
    }
   ],
   "source": [
    "from sklearn.metrics import confusion_matrix\n",
    "confusion_matrix(ytest,pred_ts)"
   ]
  },
  {
   "cell_type": "code",
   "execution_count": 47,
   "id": "de4fbf3c",
   "metadata": {
    "execution": {
     "iopub.execute_input": "2022-05-26T18:40:23.505145Z",
     "iopub.status.busy": "2022-05-26T18:40:23.504105Z",
     "iopub.status.idle": "2022-05-26T18:40:23.510714Z",
     "shell.execute_reply": "2022-05-26T18:40:23.509934Z"
    },
    "papermill": {
     "duration": 0.039017,
     "end_time": "2022-05-26T18:40:23.512734",
     "exception": false,
     "start_time": "2022-05-26T18:40:23.473717",
     "status": "completed"
    },
    "tags": []
   },
   "outputs": [
    {
     "data": {
      "text/plain": [
       "(891, 837)"
      ]
     },
     "execution_count": 47,
     "metadata": {},
     "output_type": "execute_result"
    }
   ],
   "source": [
    "Xnew.shape"
   ]
  },
  {
   "cell_type": "markdown",
   "id": "3a530b26",
   "metadata": {
    "papermill": {
     "duration": 0.026483,
     "end_time": "2022-05-26T18:40:23.567452",
     "exception": false,
     "start_time": "2022-05-26T18:40:23.540969",
     "status": "completed"
    },
    "tags": []
   },
   "source": [
    "# Prediction Analysis"
   ]
  },
  {
   "cell_type": "code",
   "execution_count": 48,
   "id": "f61a8388",
   "metadata": {
    "execution": {
     "iopub.execute_input": "2022-05-26T18:40:23.624717Z",
     "iopub.status.busy": "2022-05-26T18:40:23.623660Z",
     "iopub.status.idle": "2022-05-26T18:40:23.637304Z",
     "shell.execute_reply": "2022-05-26T18:40:23.635990Z"
    },
    "papermill": {
     "duration": 0.045361,
     "end_time": "2022-05-26T18:40:23.639952",
     "exception": false,
     "start_time": "2022-05-26T18:40:23.594591",
     "status": "completed"
    },
    "tags": []
   },
   "outputs": [
    {
     "data": {
      "text/plain": [
       "PassengerId    0.000000\n",
       "Pclass        -0.534170\n",
       "Age            0.512711\n",
       "SibSp          4.931018\n",
       "Parch          4.044650\n",
       "Fare           0.833233\n",
       "dtype: float64"
      ]
     },
     "execution_count": 48,
     "metadata": {},
     "output_type": "execute_result"
    }
   ],
   "source": [
    "B.skew()"
   ]
  },
  {
   "cell_type": "code",
   "execution_count": 49,
   "id": "aad99c66",
   "metadata": {
    "execution": {
     "iopub.execute_input": "2022-05-26T18:40:23.696426Z",
     "iopub.status.busy": "2022-05-26T18:40:23.695925Z",
     "iopub.status.idle": "2022-05-26T18:40:23.706684Z",
     "shell.execute_reply": "2022-05-26T18:40:23.705321Z"
    },
    "papermill": {
     "duration": 0.042647,
     "end_time": "2022-05-26T18:40:23.709872",
     "exception": false,
     "start_time": "2022-05-26T18:40:23.667225",
     "status": "completed"
    },
    "tags": []
   },
   "outputs": [],
   "source": [
    "Q = B.skew()\n",
    "cols_with_skew = list(Q[Q > 2].index)"
   ]
  },
  {
   "cell_type": "code",
   "execution_count": 50,
   "id": "9ef8e854",
   "metadata": {
    "execution": {
     "iopub.execute_input": "2022-05-26T18:40:23.766648Z",
     "iopub.status.busy": "2022-05-26T18:40:23.766169Z",
     "iopub.status.idle": "2022-05-26T18:40:23.774596Z",
     "shell.execute_reply": "2022-05-26T18:40:23.773257Z"
    },
    "papermill": {
     "duration": 0.039634,
     "end_time": "2022-05-26T18:40:23.777133",
     "exception": false,
     "start_time": "2022-05-26T18:40:23.737499",
     "status": "completed"
    },
    "tags": []
   },
   "outputs": [],
   "source": [
    "import numpy as np\n",
    "for j in cols_with_skew:\n",
    "    W = []\n",
    "    for i in B[j]:\n",
    "        if(i != 0):\n",
    "            W.append(np.log(i))\n",
    "        else:\n",
    "            W.append(i)\n",
    "    B[j] = W"
   ]
  },
  {
   "cell_type": "code",
   "execution_count": 51,
   "id": "97d38fb7",
   "metadata": {
    "execution": {
     "iopub.execute_input": "2022-05-26T18:40:23.834524Z",
     "iopub.status.busy": "2022-05-26T18:40:23.834037Z",
     "iopub.status.idle": "2022-05-26T18:40:23.847275Z",
     "shell.execute_reply": "2022-05-26T18:40:23.845952Z"
    },
    "papermill": {
     "duration": 0.045122,
     "end_time": "2022-05-26T18:40:23.850059",
     "exception": false,
     "start_time": "2022-05-26T18:40:23.804937",
     "status": "completed"
    },
    "tags": []
   },
   "outputs": [
    {
     "data": {
      "text/plain": [
       "PassengerId    0.000000\n",
       "Pclass        -0.534170\n",
       "Age            0.512711\n",
       "SibSp          1.140578\n",
       "Parch          0.153659\n",
       "Fare           0.833233\n",
       "dtype: float64"
      ]
     },
     "execution_count": 51,
     "metadata": {},
     "output_type": "execute_result"
    }
   ],
   "source": [
    "B.skew()"
   ]
  },
  {
   "cell_type": "code",
   "execution_count": 52,
   "id": "03e0d037",
   "metadata": {
    "execution": {
     "iopub.execute_input": "2022-05-26T18:40:23.909903Z",
     "iopub.status.busy": "2022-05-26T18:40:23.909200Z",
     "iopub.status.idle": "2022-05-26T18:40:23.918542Z",
     "shell.execute_reply": "2022-05-26T18:40:23.917169Z"
    },
    "papermill": {
     "duration": 0.042865,
     "end_time": "2022-05-26T18:40:23.921140",
     "exception": false,
     "start_time": "2022-05-26T18:40:23.878275",
     "status": "completed"
    },
    "tags": []
   },
   "outputs": [
    {
     "data": {
      "text/plain": [
       "(891, 1)"
      ]
     },
     "execution_count": 52,
     "metadata": {},
     "output_type": "execute_result"
    }
   ],
   "source": [
    "Y=A[[\"Survived\"]]\n",
    "Y.shape"
   ]
  },
  {
   "cell_type": "markdown",
   "id": "dc282343",
   "metadata": {
    "papermill": {
     "duration": 0.028321,
     "end_time": "2022-05-26T18:40:23.976989",
     "exception": false,
     "start_time": "2022-05-26T18:40:23.948668",
     "status": "completed"
    },
    "tags": []
   },
   "source": [
    "# Preprocessing Data"
   ]
  },
  {
   "cell_type": "code",
   "execution_count": 53,
   "id": "b652942b",
   "metadata": {
    "execution": {
     "iopub.execute_input": "2022-05-26T18:40:24.037319Z",
     "iopub.status.busy": "2022-05-26T18:40:24.036719Z",
     "iopub.status.idle": "2022-05-26T18:40:24.044271Z",
     "shell.execute_reply": "2022-05-26T18:40:24.043311Z"
    },
    "papermill": {
     "duration": 0.040064,
     "end_time": "2022-05-26T18:40:24.046427",
     "exception": false,
     "start_time": "2022-05-26T18:40:24.006363",
     "status": "completed"
    },
    "tags": []
   },
   "outputs": [
    {
     "data": {
      "text/plain": [
       "(418, 11)"
      ]
     },
     "execution_count": 53,
     "metadata": {},
     "output_type": "execute_result"
    }
   ],
   "source": [
    "B.shape"
   ]
  },
  {
   "cell_type": "code",
   "execution_count": 54,
   "id": "5dbb1700",
   "metadata": {
    "execution": {
     "iopub.execute_input": "2022-05-26T18:40:24.105035Z",
     "iopub.status.busy": "2022-05-26T18:40:24.104532Z",
     "iopub.status.idle": "2022-05-26T18:40:24.112866Z",
     "shell.execute_reply": "2022-05-26T18:40:24.111620Z"
    },
    "papermill": {
     "duration": 0.040295,
     "end_time": "2022-05-26T18:40:24.115434",
     "exception": false,
     "start_time": "2022-05-26T18:40:24.075139",
     "status": "completed"
    },
    "tags": []
   },
   "outputs": [
    {
     "data": {
      "text/plain": [
       "Index(['PassengerId', 'Pclass', 'Name', 'Sex', 'Age', 'SibSp', 'Parch',\n",
       "       'Ticket', 'Fare', 'Cabin', 'Embarked'],\n",
       "      dtype='object')"
      ]
     },
     "execution_count": 54,
     "metadata": {},
     "output_type": "execute_result"
    }
   ],
   "source": [
    "B.columns"
   ]
  },
  {
   "cell_type": "code",
   "execution_count": 55,
   "id": "b8fbf404",
   "metadata": {
    "execution": {
     "iopub.execute_input": "2022-05-26T18:40:24.176393Z",
     "iopub.status.busy": "2022-05-26T18:40:24.175876Z",
     "iopub.status.idle": "2022-05-26T18:40:24.183117Z",
     "shell.execute_reply": "2022-05-26T18:40:24.182003Z"
    },
    "papermill": {
     "duration": 0.040852,
     "end_time": "2022-05-26T18:40:24.185364",
     "exception": false,
     "start_time": "2022-05-26T18:40:24.144512",
     "status": "completed"
    },
    "tags": []
   },
   "outputs": [
    {
     "data": {
      "text/plain": [
       "(891, 837)"
      ]
     },
     "execution_count": 55,
     "metadata": {},
     "output_type": "execute_result"
    }
   ],
   "source": [
    "Xnew.shape"
   ]
  },
  {
   "cell_type": "code",
   "execution_count": 56,
   "id": "5e5ffc65",
   "metadata": {
    "execution": {
     "iopub.execute_input": "2022-05-26T18:40:24.244557Z",
     "iopub.status.busy": "2022-05-26T18:40:24.244040Z",
     "iopub.status.idle": "2022-05-26T18:40:24.252742Z",
     "shell.execute_reply": "2022-05-26T18:40:24.251106Z"
    },
    "papermill": {
     "duration": 0.041383,
     "end_time": "2022-05-26T18:40:24.255279",
     "exception": false,
     "start_time": "2022-05-26T18:40:24.213896",
     "status": "completed"
    },
    "tags": []
   },
   "outputs": [],
   "source": [
    "X=B.drop(labels=[\"PassengerId\",\"Name\"],axis=1)"
   ]
  },
  {
   "cell_type": "code",
   "execution_count": 57,
   "id": "3b83f389",
   "metadata": {
    "execution": {
     "iopub.execute_input": "2022-05-26T18:40:24.319058Z",
     "iopub.status.busy": "2022-05-26T18:40:24.318481Z",
     "iopub.status.idle": "2022-05-26T18:40:24.365022Z",
     "shell.execute_reply": "2022-05-26T18:40:24.363868Z"
    },
    "papermill": {
     "duration": 0.08048,
     "end_time": "2022-05-26T18:40:24.367611",
     "exception": false,
     "start_time": "2022-05-26T18:40:24.287131",
     "status": "completed"
    },
    "tags": []
   },
   "outputs": [
    {
     "data": {
      "text/html": [
       "<div>\n",
       "<style scoped>\n",
       "    .dataframe tbody tr th:only-of-type {\n",
       "        vertical-align: middle;\n",
       "    }\n",
       "\n",
       "    .dataframe tbody tr th {\n",
       "        vertical-align: top;\n",
       "    }\n",
       "\n",
       "    .dataframe thead th {\n",
       "        text-align: right;\n",
       "    }\n",
       "</style>\n",
       "<table border=\"1\" class=\"dataframe\">\n",
       "  <thead>\n",
       "    <tr style=\"text-align: right;\">\n",
       "      <th></th>\n",
       "      <th>Pclass</th>\n",
       "      <th>Age</th>\n",
       "      <th>SibSp</th>\n",
       "      <th>Parch</th>\n",
       "      <th>Fare</th>\n",
       "      <th>Sex_female</th>\n",
       "      <th>Sex_male</th>\n",
       "      <th>Ticket_110469</th>\n",
       "      <th>Ticket_110489</th>\n",
       "      <th>Ticket_110813</th>\n",
       "      <th>...</th>\n",
       "      <th>Cabin_F E46</th>\n",
       "      <th>Cabin_F E57</th>\n",
       "      <th>Cabin_F G63</th>\n",
       "      <th>Cabin_F2</th>\n",
       "      <th>Cabin_F33</th>\n",
       "      <th>Cabin_F4</th>\n",
       "      <th>Cabin_G6</th>\n",
       "      <th>Embarked_C</th>\n",
       "      <th>Embarked_Q</th>\n",
       "      <th>Embarked_S</th>\n",
       "    </tr>\n",
       "  </thead>\n",
       "  <tbody>\n",
       "    <tr>\n",
       "      <th>0</th>\n",
       "      <td>0.873482</td>\n",
       "      <td>0.334993</td>\n",
       "      <td>0.038692</td>\n",
       "      <td>0.166081</td>\n",
       "      <td>-0.885182</td>\n",
       "      <td>0</td>\n",
       "      <td>1</td>\n",
       "      <td>0</td>\n",
       "      <td>0</td>\n",
       "      <td>0</td>\n",
       "      <td>...</td>\n",
       "      <td>0</td>\n",
       "      <td>0</td>\n",
       "      <td>0</td>\n",
       "      <td>0</td>\n",
       "      <td>0</td>\n",
       "      <td>0</td>\n",
       "      <td>0</td>\n",
       "      <td>0</td>\n",
       "      <td>1</td>\n",
       "      <td>0</td>\n",
       "    </tr>\n",
       "    <tr>\n",
       "      <th>1</th>\n",
       "      <td>0.873482</td>\n",
       "      <td>1.325530</td>\n",
       "      <td>0.038692</td>\n",
       "      <td>0.166081</td>\n",
       "      <td>-0.996525</td>\n",
       "      <td>1</td>\n",
       "      <td>0</td>\n",
       "      <td>0</td>\n",
       "      <td>0</td>\n",
       "      <td>0</td>\n",
       "      <td>...</td>\n",
       "      <td>0</td>\n",
       "      <td>0</td>\n",
       "      <td>0</td>\n",
       "      <td>0</td>\n",
       "      <td>0</td>\n",
       "      <td>0</td>\n",
       "      <td>0</td>\n",
       "      <td>0</td>\n",
       "      <td>0</td>\n",
       "      <td>1</td>\n",
       "    </tr>\n",
       "    <tr>\n",
       "      <th>2</th>\n",
       "      <td>-0.315819</td>\n",
       "      <td>2.514175</td>\n",
       "      <td>0.038692</td>\n",
       "      <td>0.166081</td>\n",
       "      <td>-0.673361</td>\n",
       "      <td>0</td>\n",
       "      <td>1</td>\n",
       "      <td>0</td>\n",
       "      <td>0</td>\n",
       "      <td>0</td>\n",
       "      <td>...</td>\n",
       "      <td>0</td>\n",
       "      <td>0</td>\n",
       "      <td>0</td>\n",
       "      <td>0</td>\n",
       "      <td>0</td>\n",
       "      <td>0</td>\n",
       "      <td>0</td>\n",
       "      <td>0</td>\n",
       "      <td>1</td>\n",
       "      <td>0</td>\n",
       "    </tr>\n",
       "    <tr>\n",
       "      <th>3</th>\n",
       "      <td>0.873482</td>\n",
       "      <td>-0.259330</td>\n",
       "      <td>0.038692</td>\n",
       "      <td>0.166081</td>\n",
       "      <td>-0.784587</td>\n",
       "      <td>0</td>\n",
       "      <td>1</td>\n",
       "      <td>0</td>\n",
       "      <td>0</td>\n",
       "      <td>0</td>\n",
       "      <td>...</td>\n",
       "      <td>0</td>\n",
       "      <td>0</td>\n",
       "      <td>0</td>\n",
       "      <td>0</td>\n",
       "      <td>0</td>\n",
       "      <td>0</td>\n",
       "      <td>0</td>\n",
       "      <td>0</td>\n",
       "      <td>0</td>\n",
       "      <td>1</td>\n",
       "    </tr>\n",
       "    <tr>\n",
       "      <th>4</th>\n",
       "      <td>0.873482</td>\n",
       "      <td>-0.655545</td>\n",
       "      <td>0.038692</td>\n",
       "      <td>0.166081</td>\n",
       "      <td>-0.436904</td>\n",
       "      <td>1</td>\n",
       "      <td>0</td>\n",
       "      <td>0</td>\n",
       "      <td>0</td>\n",
       "      <td>0</td>\n",
       "      <td>...</td>\n",
       "      <td>0</td>\n",
       "      <td>0</td>\n",
       "      <td>0</td>\n",
       "      <td>0</td>\n",
       "      <td>0</td>\n",
       "      <td>0</td>\n",
       "      <td>0</td>\n",
       "      <td>0</td>\n",
       "      <td>0</td>\n",
       "      <td>1</td>\n",
       "    </tr>\n",
       "    <tr>\n",
       "      <th>...</th>\n",
       "      <td>...</td>\n",
       "      <td>...</td>\n",
       "      <td>...</td>\n",
       "      <td>...</td>\n",
       "      <td>...</td>\n",
       "      <td>...</td>\n",
       "      <td>...</td>\n",
       "      <td>...</td>\n",
       "      <td>...</td>\n",
       "      <td>...</td>\n",
       "      <td>...</td>\n",
       "      <td>...</td>\n",
       "      <td>...</td>\n",
       "      <td>...</td>\n",
       "      <td>...</td>\n",
       "      <td>...</td>\n",
       "      <td>...</td>\n",
       "      <td>...</td>\n",
       "      <td>...</td>\n",
       "      <td>...</td>\n",
       "      <td>...</td>\n",
       "    </tr>\n",
       "    <tr>\n",
       "      <th>413</th>\n",
       "      <td>0.873482</td>\n",
       "      <td>0.000000</td>\n",
       "      <td>0.038692</td>\n",
       "      <td>0.166081</td>\n",
       "      <td>-0.857521</td>\n",
       "      <td>0</td>\n",
       "      <td>1</td>\n",
       "      <td>0</td>\n",
       "      <td>0</td>\n",
       "      <td>0</td>\n",
       "      <td>...</td>\n",
       "      <td>0</td>\n",
       "      <td>0</td>\n",
       "      <td>0</td>\n",
       "      <td>0</td>\n",
       "      <td>0</td>\n",
       "      <td>0</td>\n",
       "      <td>0</td>\n",
       "      <td>0</td>\n",
       "      <td>0</td>\n",
       "      <td>1</td>\n",
       "    </tr>\n",
       "    <tr>\n",
       "      <th>414</th>\n",
       "      <td>-1.505120</td>\n",
       "      <td>0.691586</td>\n",
       "      <td>0.038692</td>\n",
       "      <td>0.166081</td>\n",
       "      <td>1.733115</td>\n",
       "      <td>1</td>\n",
       "      <td>0</td>\n",
       "      <td>0</td>\n",
       "      <td>0</td>\n",
       "      <td>0</td>\n",
       "      <td>...</td>\n",
       "      <td>0</td>\n",
       "      <td>0</td>\n",
       "      <td>0</td>\n",
       "      <td>0</td>\n",
       "      <td>0</td>\n",
       "      <td>0</td>\n",
       "      <td>0</td>\n",
       "      <td>1</td>\n",
       "      <td>0</td>\n",
       "      <td>0</td>\n",
       "    </tr>\n",
       "    <tr>\n",
       "      <th>415</th>\n",
       "      <td>0.873482</td>\n",
       "      <td>0.651965</td>\n",
       "      <td>0.038692</td>\n",
       "      <td>0.166081</td>\n",
       "      <td>-0.961624</td>\n",
       "      <td>0</td>\n",
       "      <td>1</td>\n",
       "      <td>0</td>\n",
       "      <td>0</td>\n",
       "      <td>0</td>\n",
       "      <td>...</td>\n",
       "      <td>0</td>\n",
       "      <td>0</td>\n",
       "      <td>0</td>\n",
       "      <td>0</td>\n",
       "      <td>0</td>\n",
       "      <td>0</td>\n",
       "      <td>0</td>\n",
       "      <td>0</td>\n",
       "      <td>0</td>\n",
       "      <td>1</td>\n",
       "    </tr>\n",
       "    <tr>\n",
       "      <th>416</th>\n",
       "      <td>0.873482</td>\n",
       "      <td>0.000000</td>\n",
       "      <td>0.038692</td>\n",
       "      <td>0.166081</td>\n",
       "      <td>-0.857521</td>\n",
       "      <td>0</td>\n",
       "      <td>1</td>\n",
       "      <td>0</td>\n",
       "      <td>0</td>\n",
       "      <td>0</td>\n",
       "      <td>...</td>\n",
       "      <td>0</td>\n",
       "      <td>0</td>\n",
       "      <td>0</td>\n",
       "      <td>0</td>\n",
       "      <td>0</td>\n",
       "      <td>0</td>\n",
       "      <td>0</td>\n",
       "      <td>0</td>\n",
       "      <td>0</td>\n",
       "      <td>1</td>\n",
       "    </tr>\n",
       "    <tr>\n",
       "      <th>417</th>\n",
       "      <td>0.873482</td>\n",
       "      <td>0.000000</td>\n",
       "      <td>0.038692</td>\n",
       "      <td>0.166081</td>\n",
       "      <td>0.158466</td>\n",
       "      <td>0</td>\n",
       "      <td>1</td>\n",
       "      <td>0</td>\n",
       "      <td>0</td>\n",
       "      <td>0</td>\n",
       "      <td>...</td>\n",
       "      <td>0</td>\n",
       "      <td>0</td>\n",
       "      <td>0</td>\n",
       "      <td>0</td>\n",
       "      <td>0</td>\n",
       "      <td>0</td>\n",
       "      <td>0</td>\n",
       "      <td>1</td>\n",
       "      <td>0</td>\n",
       "      <td>0</td>\n",
       "    </tr>\n",
       "  </tbody>\n",
       "</table>\n",
       "<p>418 rows × 449 columns</p>\n",
       "</div>"
      ],
      "text/plain": [
       "       Pclass       Age     SibSp     Parch      Fare  Sex_female  Sex_male  \\\n",
       "0    0.873482  0.334993  0.038692  0.166081 -0.885182           0         1   \n",
       "1    0.873482  1.325530  0.038692  0.166081 -0.996525           1         0   \n",
       "2   -0.315819  2.514175  0.038692  0.166081 -0.673361           0         1   \n",
       "3    0.873482 -0.259330  0.038692  0.166081 -0.784587           0         1   \n",
       "4    0.873482 -0.655545  0.038692  0.166081 -0.436904           1         0   \n",
       "..        ...       ...       ...       ...       ...         ...       ...   \n",
       "413  0.873482  0.000000  0.038692  0.166081 -0.857521           0         1   \n",
       "414 -1.505120  0.691586  0.038692  0.166081  1.733115           1         0   \n",
       "415  0.873482  0.651965  0.038692  0.166081 -0.961624           0         1   \n",
       "416  0.873482  0.000000  0.038692  0.166081 -0.857521           0         1   \n",
       "417  0.873482  0.000000  0.038692  0.166081  0.158466           0         1   \n",
       "\n",
       "     Ticket_110469  Ticket_110489  Ticket_110813  ...  Cabin_F E46  \\\n",
       "0                0              0              0  ...            0   \n",
       "1                0              0              0  ...            0   \n",
       "2                0              0              0  ...            0   \n",
       "3                0              0              0  ...            0   \n",
       "4                0              0              0  ...            0   \n",
       "..             ...            ...            ...  ...          ...   \n",
       "413              0              0              0  ...            0   \n",
       "414              0              0              0  ...            0   \n",
       "415              0              0              0  ...            0   \n",
       "416              0              0              0  ...            0   \n",
       "417              0              0              0  ...            0   \n",
       "\n",
       "     Cabin_F E57  Cabin_F G63  Cabin_F2  Cabin_F33  Cabin_F4  Cabin_G6  \\\n",
       "0              0            0         0          0         0         0   \n",
       "1              0            0         0          0         0         0   \n",
       "2              0            0         0          0         0         0   \n",
       "3              0            0         0          0         0         0   \n",
       "4              0            0         0          0         0         0   \n",
       "..           ...          ...       ...        ...       ...       ...   \n",
       "413            0            0         0          0         0         0   \n",
       "414            0            0         0          0         0         0   \n",
       "415            0            0         0          0         0         0   \n",
       "416            0            0         0          0         0         0   \n",
       "417            0            0         0          0         0         0   \n",
       "\n",
       "     Embarked_C  Embarked_Q  Embarked_S  \n",
       "0             0           1           0  \n",
       "1             0           0           1  \n",
       "2             0           1           0  \n",
       "3             0           0           1  \n",
       "4             0           0           1  \n",
       "..          ...         ...         ...  \n",
       "413           0           0           1  \n",
       "414           1           0           0  \n",
       "415           0           0           1  \n",
       "416           0           0           1  \n",
       "417           1           0           0  \n",
       "\n",
       "[418 rows x 449 columns]"
      ]
     },
     "execution_count": 57,
     "metadata": {},
     "output_type": "execute_result"
    }
   ],
   "source": [
    "preprocessing(X)"
   ]
  },
  {
   "cell_type": "code",
   "execution_count": 58,
   "id": "606d5fe6",
   "metadata": {
    "execution": {
     "iopub.execute_input": "2022-05-26T18:40:24.431670Z",
     "iopub.status.busy": "2022-05-26T18:40:24.431164Z",
     "iopub.status.idle": "2022-05-26T18:40:24.451521Z",
     "shell.execute_reply": "2022-05-26T18:40:24.450299Z"
    },
    "papermill": {
     "duration": 0.058445,
     "end_time": "2022-05-26T18:40:24.454610",
     "exception": false,
     "start_time": "2022-05-26T18:40:24.396165",
     "status": "completed"
    },
    "tags": []
   },
   "outputs": [],
   "source": [
    "Xnew=preprocessing(X)"
   ]
  },
  {
   "cell_type": "code",
   "execution_count": 59,
   "id": "6d2676a2",
   "metadata": {
    "execution": {
     "iopub.execute_input": "2022-05-26T18:40:24.516316Z",
     "iopub.status.busy": "2022-05-26T18:40:24.515854Z",
     "iopub.status.idle": "2022-05-26T18:40:24.546521Z",
     "shell.execute_reply": "2022-05-26T18:40:24.545160Z"
    },
    "papermill": {
     "duration": 0.064241,
     "end_time": "2022-05-26T18:40:24.549200",
     "exception": false,
     "start_time": "2022-05-26T18:40:24.484959",
     "status": "completed"
    },
    "tags": []
   },
   "outputs": [
    {
     "data": {
      "text/html": [
       "<div>\n",
       "<style scoped>\n",
       "    .dataframe tbody tr th:only-of-type {\n",
       "        vertical-align: middle;\n",
       "    }\n",
       "\n",
       "    .dataframe tbody tr th {\n",
       "        vertical-align: top;\n",
       "    }\n",
       "\n",
       "    .dataframe thead th {\n",
       "        text-align: right;\n",
       "    }\n",
       "</style>\n",
       "<table border=\"1\" class=\"dataframe\">\n",
       "  <thead>\n",
       "    <tr style=\"text-align: right;\">\n",
       "      <th></th>\n",
       "      <th>Pclass</th>\n",
       "      <th>Age</th>\n",
       "      <th>SibSp</th>\n",
       "      <th>Parch</th>\n",
       "      <th>Fare</th>\n",
       "      <th>Sex_female</th>\n",
       "      <th>Sex_male</th>\n",
       "      <th>Ticket_110469</th>\n",
       "      <th>Ticket_110489</th>\n",
       "      <th>Ticket_110813</th>\n",
       "      <th>...</th>\n",
       "      <th>Cabin_F E46</th>\n",
       "      <th>Cabin_F E57</th>\n",
       "      <th>Cabin_F G63</th>\n",
       "      <th>Cabin_F2</th>\n",
       "      <th>Cabin_F33</th>\n",
       "      <th>Cabin_F4</th>\n",
       "      <th>Cabin_G6</th>\n",
       "      <th>Embarked_C</th>\n",
       "      <th>Embarked_Q</th>\n",
       "      <th>Embarked_S</th>\n",
       "    </tr>\n",
       "  </thead>\n",
       "  <tbody>\n",
       "    <tr>\n",
       "      <th>0</th>\n",
       "      <td>0.873482</td>\n",
       "      <td>0.334993</td>\n",
       "      <td>0.038692</td>\n",
       "      <td>0.166081</td>\n",
       "      <td>-0.885182</td>\n",
       "      <td>0</td>\n",
       "      <td>1</td>\n",
       "      <td>0</td>\n",
       "      <td>0</td>\n",
       "      <td>0</td>\n",
       "      <td>...</td>\n",
       "      <td>0</td>\n",
       "      <td>0</td>\n",
       "      <td>0</td>\n",
       "      <td>0</td>\n",
       "      <td>0</td>\n",
       "      <td>0</td>\n",
       "      <td>0</td>\n",
       "      <td>0</td>\n",
       "      <td>1</td>\n",
       "      <td>0</td>\n",
       "    </tr>\n",
       "    <tr>\n",
       "      <th>1</th>\n",
       "      <td>0.873482</td>\n",
       "      <td>1.325530</td>\n",
       "      <td>0.038692</td>\n",
       "      <td>0.166081</td>\n",
       "      <td>-0.996525</td>\n",
       "      <td>1</td>\n",
       "      <td>0</td>\n",
       "      <td>0</td>\n",
       "      <td>0</td>\n",
       "      <td>0</td>\n",
       "      <td>...</td>\n",
       "      <td>0</td>\n",
       "      <td>0</td>\n",
       "      <td>0</td>\n",
       "      <td>0</td>\n",
       "      <td>0</td>\n",
       "      <td>0</td>\n",
       "      <td>0</td>\n",
       "      <td>0</td>\n",
       "      <td>0</td>\n",
       "      <td>1</td>\n",
       "    </tr>\n",
       "    <tr>\n",
       "      <th>2</th>\n",
       "      <td>-0.315819</td>\n",
       "      <td>2.514175</td>\n",
       "      <td>0.038692</td>\n",
       "      <td>0.166081</td>\n",
       "      <td>-0.673361</td>\n",
       "      <td>0</td>\n",
       "      <td>1</td>\n",
       "      <td>0</td>\n",
       "      <td>0</td>\n",
       "      <td>0</td>\n",
       "      <td>...</td>\n",
       "      <td>0</td>\n",
       "      <td>0</td>\n",
       "      <td>0</td>\n",
       "      <td>0</td>\n",
       "      <td>0</td>\n",
       "      <td>0</td>\n",
       "      <td>0</td>\n",
       "      <td>0</td>\n",
       "      <td>1</td>\n",
       "      <td>0</td>\n",
       "    </tr>\n",
       "    <tr>\n",
       "      <th>3</th>\n",
       "      <td>0.873482</td>\n",
       "      <td>-0.259330</td>\n",
       "      <td>0.038692</td>\n",
       "      <td>0.166081</td>\n",
       "      <td>-0.784587</td>\n",
       "      <td>0</td>\n",
       "      <td>1</td>\n",
       "      <td>0</td>\n",
       "      <td>0</td>\n",
       "      <td>0</td>\n",
       "      <td>...</td>\n",
       "      <td>0</td>\n",
       "      <td>0</td>\n",
       "      <td>0</td>\n",
       "      <td>0</td>\n",
       "      <td>0</td>\n",
       "      <td>0</td>\n",
       "      <td>0</td>\n",
       "      <td>0</td>\n",
       "      <td>0</td>\n",
       "      <td>1</td>\n",
       "    </tr>\n",
       "    <tr>\n",
       "      <th>4</th>\n",
       "      <td>0.873482</td>\n",
       "      <td>-0.655545</td>\n",
       "      <td>0.038692</td>\n",
       "      <td>0.166081</td>\n",
       "      <td>-0.436904</td>\n",
       "      <td>1</td>\n",
       "      <td>0</td>\n",
       "      <td>0</td>\n",
       "      <td>0</td>\n",
       "      <td>0</td>\n",
       "      <td>...</td>\n",
       "      <td>0</td>\n",
       "      <td>0</td>\n",
       "      <td>0</td>\n",
       "      <td>0</td>\n",
       "      <td>0</td>\n",
       "      <td>0</td>\n",
       "      <td>0</td>\n",
       "      <td>0</td>\n",
       "      <td>0</td>\n",
       "      <td>1</td>\n",
       "    </tr>\n",
       "    <tr>\n",
       "      <th>...</th>\n",
       "      <td>...</td>\n",
       "      <td>...</td>\n",
       "      <td>...</td>\n",
       "      <td>...</td>\n",
       "      <td>...</td>\n",
       "      <td>...</td>\n",
       "      <td>...</td>\n",
       "      <td>...</td>\n",
       "      <td>...</td>\n",
       "      <td>...</td>\n",
       "      <td>...</td>\n",
       "      <td>...</td>\n",
       "      <td>...</td>\n",
       "      <td>...</td>\n",
       "      <td>...</td>\n",
       "      <td>...</td>\n",
       "      <td>...</td>\n",
       "      <td>...</td>\n",
       "      <td>...</td>\n",
       "      <td>...</td>\n",
       "      <td>...</td>\n",
       "    </tr>\n",
       "    <tr>\n",
       "      <th>413</th>\n",
       "      <td>0.873482</td>\n",
       "      <td>0.000000</td>\n",
       "      <td>0.038692</td>\n",
       "      <td>0.166081</td>\n",
       "      <td>-0.857521</td>\n",
       "      <td>0</td>\n",
       "      <td>1</td>\n",
       "      <td>0</td>\n",
       "      <td>0</td>\n",
       "      <td>0</td>\n",
       "      <td>...</td>\n",
       "      <td>0</td>\n",
       "      <td>0</td>\n",
       "      <td>0</td>\n",
       "      <td>0</td>\n",
       "      <td>0</td>\n",
       "      <td>0</td>\n",
       "      <td>0</td>\n",
       "      <td>0</td>\n",
       "      <td>0</td>\n",
       "      <td>1</td>\n",
       "    </tr>\n",
       "    <tr>\n",
       "      <th>414</th>\n",
       "      <td>-1.505120</td>\n",
       "      <td>0.691586</td>\n",
       "      <td>0.038692</td>\n",
       "      <td>0.166081</td>\n",
       "      <td>1.733115</td>\n",
       "      <td>1</td>\n",
       "      <td>0</td>\n",
       "      <td>0</td>\n",
       "      <td>0</td>\n",
       "      <td>0</td>\n",
       "      <td>...</td>\n",
       "      <td>0</td>\n",
       "      <td>0</td>\n",
       "      <td>0</td>\n",
       "      <td>0</td>\n",
       "      <td>0</td>\n",
       "      <td>0</td>\n",
       "      <td>0</td>\n",
       "      <td>1</td>\n",
       "      <td>0</td>\n",
       "      <td>0</td>\n",
       "    </tr>\n",
       "    <tr>\n",
       "      <th>415</th>\n",
       "      <td>0.873482</td>\n",
       "      <td>0.651965</td>\n",
       "      <td>0.038692</td>\n",
       "      <td>0.166081</td>\n",
       "      <td>-0.961624</td>\n",
       "      <td>0</td>\n",
       "      <td>1</td>\n",
       "      <td>0</td>\n",
       "      <td>0</td>\n",
       "      <td>0</td>\n",
       "      <td>...</td>\n",
       "      <td>0</td>\n",
       "      <td>0</td>\n",
       "      <td>0</td>\n",
       "      <td>0</td>\n",
       "      <td>0</td>\n",
       "      <td>0</td>\n",
       "      <td>0</td>\n",
       "      <td>0</td>\n",
       "      <td>0</td>\n",
       "      <td>1</td>\n",
       "    </tr>\n",
       "    <tr>\n",
       "      <th>416</th>\n",
       "      <td>0.873482</td>\n",
       "      <td>0.000000</td>\n",
       "      <td>0.038692</td>\n",
       "      <td>0.166081</td>\n",
       "      <td>-0.857521</td>\n",
       "      <td>0</td>\n",
       "      <td>1</td>\n",
       "      <td>0</td>\n",
       "      <td>0</td>\n",
       "      <td>0</td>\n",
       "      <td>...</td>\n",
       "      <td>0</td>\n",
       "      <td>0</td>\n",
       "      <td>0</td>\n",
       "      <td>0</td>\n",
       "      <td>0</td>\n",
       "      <td>0</td>\n",
       "      <td>0</td>\n",
       "      <td>0</td>\n",
       "      <td>0</td>\n",
       "      <td>1</td>\n",
       "    </tr>\n",
       "    <tr>\n",
       "      <th>417</th>\n",
       "      <td>0.873482</td>\n",
       "      <td>0.000000</td>\n",
       "      <td>0.038692</td>\n",
       "      <td>0.166081</td>\n",
       "      <td>0.158466</td>\n",
       "      <td>0</td>\n",
       "      <td>1</td>\n",
       "      <td>0</td>\n",
       "      <td>0</td>\n",
       "      <td>0</td>\n",
       "      <td>...</td>\n",
       "      <td>0</td>\n",
       "      <td>0</td>\n",
       "      <td>0</td>\n",
       "      <td>0</td>\n",
       "      <td>0</td>\n",
       "      <td>0</td>\n",
       "      <td>0</td>\n",
       "      <td>1</td>\n",
       "      <td>0</td>\n",
       "      <td>0</td>\n",
       "    </tr>\n",
       "  </tbody>\n",
       "</table>\n",
       "<p>418 rows × 449 columns</p>\n",
       "</div>"
      ],
      "text/plain": [
       "       Pclass       Age     SibSp     Parch      Fare  Sex_female  Sex_male  \\\n",
       "0    0.873482  0.334993  0.038692  0.166081 -0.885182           0         1   \n",
       "1    0.873482  1.325530  0.038692  0.166081 -0.996525           1         0   \n",
       "2   -0.315819  2.514175  0.038692  0.166081 -0.673361           0         1   \n",
       "3    0.873482 -0.259330  0.038692  0.166081 -0.784587           0         1   \n",
       "4    0.873482 -0.655545  0.038692  0.166081 -0.436904           1         0   \n",
       "..        ...       ...       ...       ...       ...         ...       ...   \n",
       "413  0.873482  0.000000  0.038692  0.166081 -0.857521           0         1   \n",
       "414 -1.505120  0.691586  0.038692  0.166081  1.733115           1         0   \n",
       "415  0.873482  0.651965  0.038692  0.166081 -0.961624           0         1   \n",
       "416  0.873482  0.000000  0.038692  0.166081 -0.857521           0         1   \n",
       "417  0.873482  0.000000  0.038692  0.166081  0.158466           0         1   \n",
       "\n",
       "     Ticket_110469  Ticket_110489  Ticket_110813  ...  Cabin_F E46  \\\n",
       "0                0              0              0  ...            0   \n",
       "1                0              0              0  ...            0   \n",
       "2                0              0              0  ...            0   \n",
       "3                0              0              0  ...            0   \n",
       "4                0              0              0  ...            0   \n",
       "..             ...            ...            ...  ...          ...   \n",
       "413              0              0              0  ...            0   \n",
       "414              0              0              0  ...            0   \n",
       "415              0              0              0  ...            0   \n",
       "416              0              0              0  ...            0   \n",
       "417              0              0              0  ...            0   \n",
       "\n",
       "     Cabin_F E57  Cabin_F G63  Cabin_F2  Cabin_F33  Cabin_F4  Cabin_G6  \\\n",
       "0              0            0         0          0         0         0   \n",
       "1              0            0         0          0         0         0   \n",
       "2              0            0         0          0         0         0   \n",
       "3              0            0         0          0         0         0   \n",
       "4              0            0         0          0         0         0   \n",
       "..           ...          ...       ...        ...       ...       ...   \n",
       "413            0            0         0          0         0         0   \n",
       "414            0            0         0          0         0         0   \n",
       "415            0            0         0          0         0         0   \n",
       "416            0            0         0          0         0         0   \n",
       "417            0            0         0          0         0         0   \n",
       "\n",
       "     Embarked_C  Embarked_Q  Embarked_S  \n",
       "0             0           1           0  \n",
       "1             0           0           1  \n",
       "2             0           1           0  \n",
       "3             0           0           1  \n",
       "4             0           0           1  \n",
       "..          ...         ...         ...  \n",
       "413           0           0           1  \n",
       "414           1           0           0  \n",
       "415           0           0           1  \n",
       "416           0           0           1  \n",
       "417           1           0           0  \n",
       "\n",
       "[418 rows x 449 columns]"
      ]
     },
     "execution_count": 59,
     "metadata": {},
     "output_type": "execute_result"
    }
   ],
   "source": [
    "Xnew"
   ]
  },
  {
   "cell_type": "code",
   "execution_count": 60,
   "id": "7b373ad9",
   "metadata": {
    "execution": {
     "iopub.execute_input": "2022-05-26T18:40:24.611731Z",
     "iopub.status.busy": "2022-05-26T18:40:24.610874Z",
     "iopub.status.idle": "2022-05-26T18:40:24.699196Z",
     "shell.execute_reply": "2022-05-26T18:40:24.697882Z"
    },
    "papermill": {
     "duration": 0.12387,
     "end_time": "2022-05-26T18:40:24.703174",
     "exception": false,
     "start_time": "2022-05-26T18:40:24.579304",
     "status": "completed"
    },
    "tags": []
   },
   "outputs": [],
   "source": [
    "from sklearn.linear_model import LogisticRegression\n",
    "lr=LogisticRegression()\n",
    "model=lr.fit(Xnew,Y.iloc[:418])\n",
    "predicted=model.predict(Xnew)"
   ]
  },
  {
   "cell_type": "code",
   "execution_count": 61,
   "id": "869a71ea",
   "metadata": {
    "execution": {
     "iopub.execute_input": "2022-05-26T18:40:24.817347Z",
     "iopub.status.busy": "2022-05-26T18:40:24.816529Z",
     "iopub.status.idle": "2022-05-26T18:40:24.825506Z",
     "shell.execute_reply": "2022-05-26T18:40:24.823982Z"
    },
    "papermill": {
     "duration": 0.069766,
     "end_time": "2022-05-26T18:40:24.828090",
     "exception": false,
     "start_time": "2022-05-26T18:40:24.758324",
     "status": "completed"
    },
    "tags": []
   },
   "outputs": [
    {
     "data": {
      "text/plain": [
       "array([0, 0, 1, 1, 0, 0, 0, 0, 0, 1, 1, 1, 0, 0, 0, 0, 0, 1, 0, 0, 0, 1,\n",
       "       1, 1, 0, 1, 0, 0, 1, 0, 0, 1, 0, 0, 0, 0, 0, 0, 0, 1, 0, 0, 0, 0,\n",
       "       1, 0, 0, 1, 0, 0, 0, 0, 1, 0, 0, 0, 1, 0, 1, 0, 0, 1, 0, 0, 1, 0,\n",
       "       1, 0, 1, 0, 0, 0, 0, 0, 1, 0, 0, 0, 1, 1, 0, 0, 1, 0, 1, 0, 0, 0,\n",
       "       1, 0, 0, 0, 0, 0, 0, 0, 0, 1, 0, 0, 0, 0, 0, 0, 0, 0, 1, 1, 0, 1,\n",
       "       0, 0, 0, 0, 0, 0, 0, 0, 0, 0, 0, 0, 0, 1, 0, 0, 0, 1, 1, 0, 0, 0,\n",
       "       0, 1, 0, 0, 1, 0, 0, 0, 0, 1, 0, 0, 0, 0, 1, 0, 0, 0, 0, 1, 0, 0,\n",
       "       0, 0, 1, 0, 0, 0, 0, 1, 0, 0, 0, 1, 1, 0, 0, 0, 0, 0, 0, 0, 0, 0,\n",
       "       0, 0, 0, 0, 0, 0, 0, 1, 0, 0, 0, 1, 0, 0, 1, 0, 0, 1, 1, 1, 0, 0,\n",
       "       1, 0, 0, 0, 0, 0, 1, 0, 0, 1, 1, 1, 0, 1, 0, 0, 0, 1, 1, 0, 1, 0,\n",
       "       0, 0, 0, 0, 1, 0, 1, 0, 0, 0, 0, 0, 0, 1, 0, 0, 0, 1, 0, 0, 0, 0,\n",
       "       0, 0, 0, 0, 0, 1, 0, 0, 0, 0, 0, 0, 0, 1, 1, 1, 0, 1, 0, 1, 0, 0,\n",
       "       0, 0, 0, 1, 0, 1, 0, 1, 0, 0, 1, 0, 0, 0, 0, 1, 0, 0, 0, 1, 0, 0,\n",
       "       1, 0, 1, 1, 1, 1, 0, 0, 0, 0, 0, 0, 1, 1, 1, 1, 0, 1, 0, 1, 1, 1,\n",
       "       0, 0, 1, 1, 0, 0, 0, 1, 1, 0, 1, 1, 0, 0, 1, 1, 0, 1, 0, 1, 1, 1,\n",
       "       0, 0, 0, 0, 1, 0, 0, 1, 1, 0, 1, 1, 0, 0, 0, 0, 1, 0, 1, 0, 0, 0,\n",
       "       0, 0, 0, 0, 1, 0, 1, 0, 0, 0, 0, 0, 0, 0, 1, 0, 0, 1, 1, 0, 0, 0,\n",
       "       0, 0, 1, 0, 0, 0, 1, 1, 0, 0, 0, 0, 0, 1, 0, 0, 0, 1, 0, 1, 1, 0,\n",
       "       0, 0, 0, 1, 0, 0, 0, 0, 0, 0, 0, 1, 0, 0, 0, 0, 0, 0, 1, 0, 1, 1])"
      ]
     },
     "execution_count": 61,
     "metadata": {},
     "output_type": "execute_result"
    }
   ],
   "source": [
    "predicted"
   ]
  },
  {
   "cell_type": "code",
   "execution_count": 62,
   "id": "82bbf30b",
   "metadata": {
    "execution": {
     "iopub.execute_input": "2022-05-26T18:40:24.891985Z",
     "iopub.status.busy": "2022-05-26T18:40:24.890632Z",
     "iopub.status.idle": "2022-05-26T18:40:24.898455Z",
     "shell.execute_reply": "2022-05-26T18:40:24.897494Z"
    },
    "papermill": {
     "duration": 0.043062,
     "end_time": "2022-05-26T18:40:24.901287",
     "exception": false,
     "start_time": "2022-05-26T18:40:24.858225",
     "status": "completed"
    },
    "tags": []
   },
   "outputs": [],
   "source": [
    "T=A[[\"PassengerId\"]].iloc[:418]\n",
    "T[\"Survived\"]=predicted"
   ]
  },
  {
   "cell_type": "code",
   "execution_count": 63,
   "id": "a3dff7c0",
   "metadata": {
    "execution": {
     "iopub.execute_input": "2022-05-26T18:40:24.968096Z",
     "iopub.status.busy": "2022-05-26T18:40:24.967063Z",
     "iopub.status.idle": "2022-05-26T18:40:24.982420Z",
     "shell.execute_reply": "2022-05-26T18:40:24.981136Z"
    },
    "papermill": {
     "duration": 0.051467,
     "end_time": "2022-05-26T18:40:24.984910",
     "exception": false,
     "start_time": "2022-05-26T18:40:24.933443",
     "status": "completed"
    },
    "tags": []
   },
   "outputs": [
    {
     "data": {
      "text/html": [
       "<div>\n",
       "<style scoped>\n",
       "    .dataframe tbody tr th:only-of-type {\n",
       "        vertical-align: middle;\n",
       "    }\n",
       "\n",
       "    .dataframe tbody tr th {\n",
       "        vertical-align: top;\n",
       "    }\n",
       "\n",
       "    .dataframe thead th {\n",
       "        text-align: right;\n",
       "    }\n",
       "</style>\n",
       "<table border=\"1\" class=\"dataframe\">\n",
       "  <thead>\n",
       "    <tr style=\"text-align: right;\">\n",
       "      <th></th>\n",
       "      <th>PassengerId</th>\n",
       "      <th>Survived</th>\n",
       "    </tr>\n",
       "  </thead>\n",
       "  <tbody>\n",
       "    <tr>\n",
       "      <th>0</th>\n",
       "      <td>1</td>\n",
       "      <td>0</td>\n",
       "    </tr>\n",
       "    <tr>\n",
       "      <th>1</th>\n",
       "      <td>2</td>\n",
       "      <td>0</td>\n",
       "    </tr>\n",
       "    <tr>\n",
       "      <th>2</th>\n",
       "      <td>3</td>\n",
       "      <td>1</td>\n",
       "    </tr>\n",
       "    <tr>\n",
       "      <th>3</th>\n",
       "      <td>4</td>\n",
       "      <td>1</td>\n",
       "    </tr>\n",
       "    <tr>\n",
       "      <th>4</th>\n",
       "      <td>5</td>\n",
       "      <td>0</td>\n",
       "    </tr>\n",
       "    <tr>\n",
       "      <th>...</th>\n",
       "      <td>...</td>\n",
       "      <td>...</td>\n",
       "    </tr>\n",
       "    <tr>\n",
       "      <th>413</th>\n",
       "      <td>414</td>\n",
       "      <td>0</td>\n",
       "    </tr>\n",
       "    <tr>\n",
       "      <th>414</th>\n",
       "      <td>415</td>\n",
       "      <td>1</td>\n",
       "    </tr>\n",
       "    <tr>\n",
       "      <th>415</th>\n",
       "      <td>416</td>\n",
       "      <td>0</td>\n",
       "    </tr>\n",
       "    <tr>\n",
       "      <th>416</th>\n",
       "      <td>417</td>\n",
       "      <td>1</td>\n",
       "    </tr>\n",
       "    <tr>\n",
       "      <th>417</th>\n",
       "      <td>418</td>\n",
       "      <td>1</td>\n",
       "    </tr>\n",
       "  </tbody>\n",
       "</table>\n",
       "<p>418 rows × 2 columns</p>\n",
       "</div>"
      ],
      "text/plain": [
       "     PassengerId  Survived\n",
       "0              1         0\n",
       "1              2         0\n",
       "2              3         1\n",
       "3              4         1\n",
       "4              5         0\n",
       "..           ...       ...\n",
       "413          414         0\n",
       "414          415         1\n",
       "415          416         0\n",
       "416          417         1\n",
       "417          418         1\n",
       "\n",
       "[418 rows x 2 columns]"
      ]
     },
     "execution_count": 63,
     "metadata": {},
     "output_type": "execute_result"
    }
   ],
   "source": [
    "T"
   ]
  },
  {
   "cell_type": "code",
   "execution_count": 64,
   "id": "7989ae66",
   "metadata": {
    "execution": {
     "iopub.execute_input": "2022-05-26T18:40:25.049711Z",
     "iopub.status.busy": "2022-05-26T18:40:25.049226Z",
     "iopub.status.idle": "2022-05-26T18:40:25.060094Z",
     "shell.execute_reply": "2022-05-26T18:40:25.058406Z"
    },
    "papermill": {
     "duration": 0.045422,
     "end_time": "2022-05-26T18:40:25.063000",
     "exception": false,
     "start_time": "2022-05-26T18:40:25.017578",
     "status": "completed"
    },
    "tags": []
   },
   "outputs": [],
   "source": [
    "T.to_csv(\"submission.csv\",index=None)"
   ]
  },
  {
   "cell_type": "code",
   "execution_count": 65,
   "id": "613080dc",
   "metadata": {
    "execution": {
     "iopub.execute_input": "2022-05-26T18:40:25.128734Z",
     "iopub.status.busy": "2022-05-26T18:40:25.127161Z",
     "iopub.status.idle": "2022-05-26T18:40:25.144334Z",
     "shell.execute_reply": "2022-05-26T18:40:25.142851Z"
    },
    "papermill": {
     "duration": 0.052611,
     "end_time": "2022-05-26T18:40:25.147243",
     "exception": false,
     "start_time": "2022-05-26T18:40:25.094632",
     "status": "completed"
    },
    "tags": []
   },
   "outputs": [
    {
     "data": {
      "text/html": [
       "<div>\n",
       "<style scoped>\n",
       "    .dataframe tbody tr th:only-of-type {\n",
       "        vertical-align: middle;\n",
       "    }\n",
       "\n",
       "    .dataframe tbody tr th {\n",
       "        vertical-align: top;\n",
       "    }\n",
       "\n",
       "    .dataframe thead th {\n",
       "        text-align: right;\n",
       "    }\n",
       "</style>\n",
       "<table border=\"1\" class=\"dataframe\">\n",
       "  <thead>\n",
       "    <tr style=\"text-align: right;\">\n",
       "      <th></th>\n",
       "      <th>PassengerId</th>\n",
       "      <th>Survived</th>\n",
       "    </tr>\n",
       "  </thead>\n",
       "  <tbody>\n",
       "    <tr>\n",
       "      <th>0</th>\n",
       "      <td>1</td>\n",
       "      <td>0</td>\n",
       "    </tr>\n",
       "    <tr>\n",
       "      <th>1</th>\n",
       "      <td>2</td>\n",
       "      <td>0</td>\n",
       "    </tr>\n",
       "    <tr>\n",
       "      <th>2</th>\n",
       "      <td>3</td>\n",
       "      <td>1</td>\n",
       "    </tr>\n",
       "    <tr>\n",
       "      <th>3</th>\n",
       "      <td>4</td>\n",
       "      <td>1</td>\n",
       "    </tr>\n",
       "    <tr>\n",
       "      <th>4</th>\n",
       "      <td>5</td>\n",
       "      <td>0</td>\n",
       "    </tr>\n",
       "    <tr>\n",
       "      <th>...</th>\n",
       "      <td>...</td>\n",
       "      <td>...</td>\n",
       "    </tr>\n",
       "    <tr>\n",
       "      <th>413</th>\n",
       "      <td>414</td>\n",
       "      <td>0</td>\n",
       "    </tr>\n",
       "    <tr>\n",
       "      <th>414</th>\n",
       "      <td>415</td>\n",
       "      <td>1</td>\n",
       "    </tr>\n",
       "    <tr>\n",
       "      <th>415</th>\n",
       "      <td>416</td>\n",
       "      <td>0</td>\n",
       "    </tr>\n",
       "    <tr>\n",
       "      <th>416</th>\n",
       "      <td>417</td>\n",
       "      <td>1</td>\n",
       "    </tr>\n",
       "    <tr>\n",
       "      <th>417</th>\n",
       "      <td>418</td>\n",
       "      <td>1</td>\n",
       "    </tr>\n",
       "  </tbody>\n",
       "</table>\n",
       "<p>418 rows × 2 columns</p>\n",
       "</div>"
      ],
      "text/plain": [
       "     PassengerId  Survived\n",
       "0              1         0\n",
       "1              2         0\n",
       "2              3         1\n",
       "3              4         1\n",
       "4              5         0\n",
       "..           ...       ...\n",
       "413          414         0\n",
       "414          415         1\n",
       "415          416         0\n",
       "416          417         1\n",
       "417          418         1\n",
       "\n",
       "[418 rows x 2 columns]"
      ]
     },
     "execution_count": 65,
     "metadata": {},
     "output_type": "execute_result"
    }
   ],
   "source": [
    "T"
   ]
  },
  {
   "cell_type": "code",
   "execution_count": null,
   "id": "206585b2",
   "metadata": {
    "papermill": {
     "duration": 0.029362,
     "end_time": "2022-05-26T18:40:25.207737",
     "exception": false,
     "start_time": "2022-05-26T18:40:25.178375",
     "status": "completed"
    },
    "tags": []
   },
   "outputs": [],
   "source": []
  }
 ],
 "metadata": {
  "kernelspec": {
   "display_name": "Python 3",
   "language": "python",
   "name": "python3"
  },
  "language_info": {
   "codemirror_mode": {
    "name": "ipython",
    "version": 3
   },
   "file_extension": ".py",
   "mimetype": "text/x-python",
   "name": "python",
   "nbconvert_exporter": "python",
   "pygments_lexer": "ipython3",
   "version": "3.7.12"
  },
  "papermill": {
   "default_parameters": {},
   "duration": 72.855672,
   "end_time": "2022-05-26T18:40:26.869267",
   "environment_variables": {},
   "exception": null,
   "input_path": "__notebook__.ipynb",
   "output_path": "__notebook__.ipynb",
   "parameters": {},
   "start_time": "2022-05-26T18:39:14.013595",
   "version": "2.3.4"
  }
 },
 "nbformat": 4,
 "nbformat_minor": 5
}
